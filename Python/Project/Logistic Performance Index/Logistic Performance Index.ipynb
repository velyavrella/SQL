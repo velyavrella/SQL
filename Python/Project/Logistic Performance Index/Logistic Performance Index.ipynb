{
 "cells": [
  {
   "cell_type": "markdown",
   "id": "d4462577",
   "metadata": {},
   "source": [
    "### Import Module"
   ]
  },
  {
   "cell_type": "code",
   "execution_count": 1,
   "id": "36332ee8",
   "metadata": {},
   "outputs": [],
   "source": [
    "import pandas as pd"
   ]
  },
  {
   "cell_type": "markdown",
   "id": "b7ab3fc8",
   "metadata": {},
   "source": [
    "### Input Data\n",
    "Data diperoleh dari website https://datacatalog.worldbank.org/search/dataset/0037712/World-Development-Indicators yaitu kumpulan indikator pembangunan utama Bank Dunia. Menyajikan data pembangunan global terkini dan akurat yang tersedia, dan mencakup perkiraan nasional, regional, dan global termasuk data Logistic Performance Index: Overall."
   ]
  },
  {
   "cell_type": "code",
   "execution_count": 10,
   "id": "bfd404f4",
   "metadata": {},
   "outputs": [
    {
     "data": {
      "text/html": [
       "<div>\n",
       "<style scoped>\n",
       "    .dataframe tbody tr th:only-of-type {\n",
       "        vertical-align: middle;\n",
       "    }\n",
       "\n",
       "    .dataframe tbody tr th {\n",
       "        vertical-align: top;\n",
       "    }\n",
       "\n",
       "    .dataframe thead th {\n",
       "        text-align: right;\n",
       "    }\n",
       "</style>\n",
       "<table border=\"1\" class=\"dataframe\">\n",
       "  <thead>\n",
       "    <tr style=\"text-align: right;\">\n",
       "      <th></th>\n",
       "      <th>2010</th>\n",
       "      <th>2012</th>\n",
       "      <th>2014</th>\n",
       "      <th>2016</th>\n",
       "      <th>2018</th>\n",
       "    </tr>\n",
       "    <tr>\n",
       "      <th>Country Name</th>\n",
       "      <th></th>\n",
       "      <th></th>\n",
       "      <th></th>\n",
       "      <th></th>\n",
       "      <th></th>\n",
       "    </tr>\n",
       "  </thead>\n",
       "  <tbody>\n",
       "    <tr>\n",
       "      <th>Australia</th>\n",
       "      <td>3.84</td>\n",
       "      <td>3.73</td>\n",
       "      <td>3.810776</td>\n",
       "      <td>3.793385</td>\n",
       "      <td>3.75</td>\n",
       "    </tr>\n",
       "    <tr>\n",
       "      <th>Brazil</th>\n",
       "      <td>3.20</td>\n",
       "      <td>3.13</td>\n",
       "      <td>2.943951</td>\n",
       "      <td>3.087984</td>\n",
       "      <td>2.99</td>\n",
       "    </tr>\n",
       "    <tr>\n",
       "      <th>China</th>\n",
       "      <td>3.49</td>\n",
       "      <td>3.52</td>\n",
       "      <td>3.531463</td>\n",
       "      <td>3.661104</td>\n",
       "      <td>3.61</td>\n",
       "    </tr>\n",
       "    <tr>\n",
       "      <th>Indonesia</th>\n",
       "      <td>2.76</td>\n",
       "      <td>2.94</td>\n",
       "      <td>3.081806</td>\n",
       "      <td>2.984537</td>\n",
       "      <td>3.15</td>\n",
       "    </tr>\n",
       "    <tr>\n",
       "      <th>India</th>\n",
       "      <td>3.12</td>\n",
       "      <td>3.08</td>\n",
       "      <td>3.080137</td>\n",
       "      <td>3.420043</td>\n",
       "      <td>3.18</td>\n",
       "    </tr>\n",
       "    <tr>\n",
       "      <th>Japan</th>\n",
       "      <td>3.97</td>\n",
       "      <td>3.93</td>\n",
       "      <td>3.914618</td>\n",
       "      <td>3.970464</td>\n",
       "      <td>4.03</td>\n",
       "    </tr>\n",
       "    <tr>\n",
       "      <th>Malaysia</th>\n",
       "      <td>3.44</td>\n",
       "      <td>3.49</td>\n",
       "      <td>3.590425</td>\n",
       "      <td>3.426307</td>\n",
       "      <td>3.22</td>\n",
       "    </tr>\n",
       "    <tr>\n",
       "      <th>Myanmar</th>\n",
       "      <td>2.33</td>\n",
       "      <td>2.37</td>\n",
       "      <td>2.249909</td>\n",
       "      <td>2.458571</td>\n",
       "      <td>2.30</td>\n",
       "    </tr>\n",
       "    <tr>\n",
       "      <th>Philippines</th>\n",
       "      <td>3.14</td>\n",
       "      <td>3.02</td>\n",
       "      <td>3.003844</td>\n",
       "      <td>2.856259</td>\n",
       "      <td>2.90</td>\n",
       "    </tr>\n",
       "    <tr>\n",
       "      <th>Singapore</th>\n",
       "      <td>4.09</td>\n",
       "      <td>4.13</td>\n",
       "      <td>4.004448</td>\n",
       "      <td>4.143632</td>\n",
       "      <td>4.00</td>\n",
       "    </tr>\n",
       "    <tr>\n",
       "      <th>Saudi Arabia</th>\n",
       "      <td>3.22</td>\n",
       "      <td>3.18</td>\n",
       "      <td>3.148437</td>\n",
       "      <td>3.156376</td>\n",
       "      <td>3.01</td>\n",
       "    </tr>\n",
       "    <tr>\n",
       "      <th>Thailand</th>\n",
       "      <td>3.29</td>\n",
       "      <td>3.18</td>\n",
       "      <td>3.429580</td>\n",
       "      <td>3.255100</td>\n",
       "      <td>3.41</td>\n",
       "    </tr>\n",
       "    <tr>\n",
       "      <th>United Kingdom</th>\n",
       "      <td>3.95</td>\n",
       "      <td>3.90</td>\n",
       "      <td>4.014649</td>\n",
       "      <td>4.069669</td>\n",
       "      <td>3.99</td>\n",
       "    </tr>\n",
       "    <tr>\n",
       "      <th>United States</th>\n",
       "      <td>3.86</td>\n",
       "      <td>3.93</td>\n",
       "      <td>3.917825</td>\n",
       "      <td>3.992172</td>\n",
       "      <td>3.89</td>\n",
       "    </tr>\n",
       "    <tr>\n",
       "      <th>Vietnam</th>\n",
       "      <td>2.96</td>\n",
       "      <td>3.00</td>\n",
       "      <td>3.154763</td>\n",
       "      <td>2.976629</td>\n",
       "      <td>3.27</td>\n",
       "    </tr>\n",
       "  </tbody>\n",
       "</table>\n",
       "</div>"
      ],
      "text/plain": [
       "                2010  2012      2014      2016  2018\n",
       "Country Name                                        \n",
       "Australia       3.84  3.73  3.810776  3.793385  3.75\n",
       "Brazil          3.20  3.13  2.943951  3.087984  2.99\n",
       "China           3.49  3.52  3.531463  3.661104  3.61\n",
       "Indonesia       2.76  2.94  3.081806  2.984537  3.15\n",
       "India           3.12  3.08  3.080137  3.420043  3.18\n",
       "Japan           3.97  3.93  3.914618  3.970464  4.03\n",
       "Malaysia        3.44  3.49  3.590425  3.426307  3.22\n",
       "Myanmar         2.33  2.37  2.249909  2.458571  2.30\n",
       "Philippines     3.14  3.02  3.003844  2.856259  2.90\n",
       "Singapore       4.09  4.13  4.004448  4.143632  4.00\n",
       "Saudi Arabia    3.22  3.18  3.148437  3.156376  3.01\n",
       "Thailand        3.29  3.18  3.429580  3.255100  3.41\n",
       "United Kingdom  3.95  3.90  4.014649  4.069669  3.99\n",
       "United States   3.86  3.93  3.917825  3.992172  3.89\n",
       "Vietnam         2.96  3.00  3.154763  2.976629  3.27"
      ]
     },
     "execution_count": 10,
     "metadata": {},
     "output_type": "execute_result"
    }
   ],
   "source": [
    "data_df = pd.read_csv('./Data.csv', index_col='Country Name') # memuat file csv sebagai data frame\n",
    "data_df # tampilkan 5 baris pertama"
   ]
  },
  {
   "cell_type": "code",
   "execution_count": 11,
   "id": "49558f42",
   "metadata": {},
   "outputs": [
    {
     "name": "stdout",
     "output_type": "stream",
     "text": [
      "<class 'pandas.core.frame.DataFrame'>\n",
      "Index: 15 entries, Australia to Vietnam\n",
      "Data columns (total 5 columns):\n",
      " #   Column  Non-Null Count  Dtype  \n",
      "---  ------  --------------  -----  \n",
      " 0   2010    15 non-null     float64\n",
      " 1   2012    15 non-null     float64\n",
      " 2   2014    15 non-null     float64\n",
      " 3   2016    15 non-null     float64\n",
      " 4   2018    15 non-null     float64\n",
      "dtypes: float64(5)\n",
      "memory usage: 720.0+ bytes\n"
     ]
    }
   ],
   "source": [
    "data_df.info()"
   ]
  },
  {
   "cell_type": "code",
   "execution_count": 12,
   "id": "4f57ab07",
   "metadata": {},
   "outputs": [
    {
     "data": {
      "text/plain": [
       "(15, 2)"
      ]
     },
     "execution_count": 12,
     "metadata": {},
     "output_type": "execute_result"
    }
   ],
   "source": [
    "data_df.drop(columns = ['2010','2012','2014'],inplace=True) # menghapus duplikasi data\n",
    "data_df.shape"
   ]
  },
  {
   "cell_type": "markdown",
   "id": "0d26bce2",
   "metadata": {},
   "source": [
    "#### 5 Negara dengan Logistic Performance Index Terbesar di 2018"
   ]
  },
  {
   "cell_type": "code",
   "execution_count": 13,
   "id": "1845468d",
   "metadata": {},
   "outputs": [
    {
     "data": {
      "text/html": [
       "<div>\n",
       "<style scoped>\n",
       "    .dataframe tbody tr th:only-of-type {\n",
       "        vertical-align: middle;\n",
       "    }\n",
       "\n",
       "    .dataframe tbody tr th {\n",
       "        vertical-align: top;\n",
       "    }\n",
       "\n",
       "    .dataframe thead th {\n",
       "        text-align: right;\n",
       "    }\n",
       "</style>\n",
       "<table border=\"1\" class=\"dataframe\">\n",
       "  <thead>\n",
       "    <tr style=\"text-align: right;\">\n",
       "      <th></th>\n",
       "      <th>2016</th>\n",
       "      <th>2018</th>\n",
       "    </tr>\n",
       "    <tr>\n",
       "      <th>Country Name</th>\n",
       "      <th></th>\n",
       "      <th></th>\n",
       "    </tr>\n",
       "  </thead>\n",
       "  <tbody>\n",
       "    <tr>\n",
       "      <th>Japan</th>\n",
       "      <td>3.970464</td>\n",
       "      <td>4.03</td>\n",
       "    </tr>\n",
       "    <tr>\n",
       "      <th>Singapore</th>\n",
       "      <td>4.143632</td>\n",
       "      <td>4.00</td>\n",
       "    </tr>\n",
       "    <tr>\n",
       "      <th>United Kingdom</th>\n",
       "      <td>4.069669</td>\n",
       "      <td>3.99</td>\n",
       "    </tr>\n",
       "    <tr>\n",
       "      <th>United States</th>\n",
       "      <td>3.992172</td>\n",
       "      <td>3.89</td>\n",
       "    </tr>\n",
       "    <tr>\n",
       "      <th>Australia</th>\n",
       "      <td>3.793385</td>\n",
       "      <td>3.75</td>\n",
       "    </tr>\n",
       "  </tbody>\n",
       "</table>\n",
       "</div>"
      ],
      "text/plain": [
       "                    2016  2018\n",
       "Country Name                  \n",
       "Japan           3.970464  4.03\n",
       "Singapore       4.143632  4.00\n",
       "United Kingdom  4.069669  3.99\n",
       "United States   3.992172  3.89\n",
       "Australia       3.793385  3.75"
      ]
     },
     "execution_count": 13,
     "metadata": {},
     "output_type": "execute_result"
    }
   ],
   "source": [
    "data2018 = data_df.sort_values('2018', ascending=False)\n",
    "data2018.head()"
   ]
  },
  {
   "cell_type": "markdown",
   "id": "cf1a50bb",
   "metadata": {},
   "source": [
    "Data terdiri dari 15 Negara dengan masing-masing Logisic Performance Index di tahun 2010, 2012, 2014, 2016 dan 2018. Rentang nilai ogisic Performance Index adalah 1-5."
   ]
  },
  {
   "cell_type": "markdown",
   "id": "756b38ab",
   "metadata": {},
   "source": [
    "### Statistika Deskriptif"
   ]
  },
  {
   "cell_type": "code",
   "execution_count": 14,
   "id": "93bd28b3",
   "metadata": {},
   "outputs": [
    {
     "data": {
      "text/html": [
       "<div>\n",
       "<style scoped>\n",
       "    .dataframe tbody tr th:only-of-type {\n",
       "        vertical-align: middle;\n",
       "    }\n",
       "\n",
       "    .dataframe tbody tr th {\n",
       "        vertical-align: top;\n",
       "    }\n",
       "\n",
       "    .dataframe thead th {\n",
       "        text-align: right;\n",
       "    }\n",
       "</style>\n",
       "<table border=\"1\" class=\"dataframe\">\n",
       "  <thead>\n",
       "    <tr style=\"text-align: right;\">\n",
       "      <th></th>\n",
       "      <th>2016</th>\n",
       "      <th>2018</th>\n",
       "    </tr>\n",
       "  </thead>\n",
       "  <tbody>\n",
       "    <tr>\n",
       "      <th>count</th>\n",
       "      <td>15.000000</td>\n",
       "      <td>15.000000</td>\n",
       "    </tr>\n",
       "    <tr>\n",
       "      <th>mean</th>\n",
       "      <td>3.416815</td>\n",
       "      <td>3.380000</td>\n",
       "    </tr>\n",
       "    <tr>\n",
       "      <th>std</th>\n",
       "      <td>0.507713</td>\n",
       "      <td>0.496142</td>\n",
       "    </tr>\n",
       "    <tr>\n",
       "      <th>min</th>\n",
       "      <td>2.458571</td>\n",
       "      <td>2.300000</td>\n",
       "    </tr>\n",
       "    <tr>\n",
       "      <th>25%</th>\n",
       "      <td>3.036261</td>\n",
       "      <td>3.080000</td>\n",
       "    </tr>\n",
       "    <tr>\n",
       "      <th>50%</th>\n",
       "      <td>3.420043</td>\n",
       "      <td>3.270000</td>\n",
       "    </tr>\n",
       "    <tr>\n",
       "      <th>75%</th>\n",
       "      <td>3.881925</td>\n",
       "      <td>3.820000</td>\n",
       "    </tr>\n",
       "    <tr>\n",
       "      <th>max</th>\n",
       "      <td>4.143632</td>\n",
       "      <td>4.030000</td>\n",
       "    </tr>\n",
       "  </tbody>\n",
       "</table>\n",
       "</div>"
      ],
      "text/plain": [
       "            2016       2018\n",
       "count  15.000000  15.000000\n",
       "mean    3.416815   3.380000\n",
       "std     0.507713   0.496142\n",
       "min     2.458571   2.300000\n",
       "25%     3.036261   3.080000\n",
       "50%     3.420043   3.270000\n",
       "75%     3.881925   3.820000\n",
       "max     4.143632   4.030000"
      ]
     },
     "execution_count": 14,
     "metadata": {},
     "output_type": "execute_result"
    }
   ],
   "source": [
    "data_df.describe()"
   ]
  },
  {
   "cell_type": "markdown",
   "id": "8b7237a6",
   "metadata": {},
   "source": [
    "### Data Visualization"
   ]
  },
  {
   "cell_type": "code",
   "execution_count": 7,
   "id": "7f3b4a0b",
   "metadata": {},
   "outputs": [],
   "source": [
    "import matplotlib.pyplot as plt # visualisasi data\n",
    "import seaborn as sns # visualisasi data"
   ]
  },
  {
   "cell_type": "code",
   "execution_count": 8,
   "id": "97a209b8",
   "metadata": {},
   "outputs": [
    {
     "data": {
      "image/png": "[encoded data removed]",
      "text/plain": [
       "<Figure size 432x288 with 1 Axes>"
      ]
     },
     "metadata": {
      "needs_background": "light"
     },
     "output_type": "display_data"
    }
   ],
   "source": [
    "data_df.plot.bar()\n",
    "plt.title('Logistic Performance Index', size=16)\n",
    "plt.legend(loc='lower right')\n",
    "plt.tight_layout()"
   ]
  }
 ],
 "metadata": {
  "kernelspec": {
   "display_name": "Python 3 (ipykernel)",
   "language": "python",
   "name": "python3"
  },
  "language_info": {
   "codemirror_mode": {
    "name": "ipython",
    "version": 3
   },
   "file_extension": ".py",
   "mimetype": "text/x-python",
   "name": "python",
   "nbconvert_exporter": "python",
   "pygments_lexer": "ipython3",
   "version": "3.9.6"
  }
 },
 "nbformat": 4,
 "nbformat_minor": 5
}
