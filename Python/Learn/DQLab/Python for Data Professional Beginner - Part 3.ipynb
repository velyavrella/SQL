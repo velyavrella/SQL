{
 "cells": [
  {
   "cell_type": "markdown",
   "id": "3cf6a77c",
   "metadata": {},
   "source": [
    "# Apa itu Object Oriented Programming?\n",
    "Pemrograman Berbasis Objek (Object Oriented Programming - OOP) merupakan salah satu paradigma pemrograman yang cukup populer di antara paradigma-paradigma lainnya.\n",
    "\n",
    "\n",
    "Pada paradigma OOP, struktur dari sebuah program dikemas ke dalam sebuah objek yang memiliki serangkaian properti (properties) dan fungsi (behaviours). Sebagai contoh, aku dapat merepresentasikan seorang karyawan ke dalam sebuah program melalui konsep OOP.\n",
    "\n",
    "Seorang karyawan dapat memiliki serangkaian properti seperti nama, usia, keahlian, dll. Kemudian, seorang karyawan juga dapat memiliki fungsi-fungsi seperti hadir ke kantor, absen, lembur, tugas dinas, dll."
   ]
  },
  {
   "cell_type": "markdown",
   "id": "5558dedc",
   "metadata": {},
   "source": [
    "# Konsep dalam Object Oriented Programming\n",
    "Sebagai salah satu bahasa pemrograman yang bersifat multi-purposive, Python juga mendukung paradigma Object Oriented (OO).\n",
    "\n",
    "Konsep OO pada Python memiliki tujuan untuk menciptakan potongan-potongan kode yang bersifat **reusable** dan **tidak redundan**. Konsep ini dikenal dengan istilah konsep DRY - Don’t Repeat Yourself (berlawanan dengan konsep WET - Write Everything Twice).\n",
    "\n",
    "Dalam bahasa pemrograman Python, terdapat 3 konsep utama OO yaitu.\n",
    "\n",
    "* **Encapsulation**: Menyembunyikan sebagian detail yang dimiliki oleh sebuah objek terhadap objek-objek lainnya.\n",
    "* **Inheritance**: Menurunkan serangkaian fungsi-fungsi yang dimiliki oleh sebuah objek ke sebuah objek baru tanpa mengubah makna dari objek acuan yang digunakan.\n",
    "* **Polymorphism**: Konsep untuk menggunakan fungsi-fungsi dengan nama/tujuan yang sama dengan cara yang berbeda."
   ]
  },
  {
   "cell_type": "markdown",
   "id": "fc5dc993",
   "metadata": {},
   "source": [
    "# Class dan Objek dalam Python\n",
    "Setiap objek yang aku representasikan dalam program berbasis OOP merupakan instansi/ bentuk nyata dari sebuah konsep yang disebut dengan **class**. Oleh karena itu, class dapat juga aku sebutkan sebagai kerangka utama (*blueprint*) dari objek. Untuk mempermudah pemahaman konsep OO.\n",
    "\n",
    "Asumsikan aku ingin merepresentasikan Diriku dan Senja sebagai karyawan di suatu perusahaan X. Untuk merepresentasikan Diriku dan Senja, aku dapat membuat sebuah class yang nantinya akan mencakup properti-properti yang umumnya dimiliki oleh sebuah karyawan.\n",
    "\n",
    "Kemudian, **dari class** yang telah aku definisikan, aku dapat **menciptakan objek** (Diriku dan Senja) dari sebuah class dengan menggunakan syntax berikut."
   ]
  },
  {
   "cell_type": "markdown",
   "id": "1a36939a",
   "metadata": {},
   "source": [
    "Pada bagian pertama, aku telah berhasil membuat sebuah class dan objek-objek sebagai bentuk realisasi dari sebuah class. Akan tetapi, class yang telah aku definisikan belum memiliki atribut ataupun fungsi-fungsi yang dapat merepresentasikan objek Karyawan dengan baik.\n",
    "\n",
    "Agar dapat membuat class Karyawan dengan baik, pertama, aku akan mempelajari cara merepresentasikan atribut/properti dalam sebuah class.  Dalam sebuah class, aku dapat mendefinisikan dua jenis atribut yaitu.\n",
    "\n",
    "* **Class Attribute** adalah properti/atribut yang bernilai sama untuk oleh seluruh objek \n",
    "* **Instance Attribute** adalah properti/atribut yang nilainya berbeda-beda untuk setiap objek dari sebuah class."
   ]
  },
  {
   "cell_type": "markdown",
   "id": "46aa0974",
   "metadata": {},
   "source": [
    "Class Karyawan pada umumnya memiliki beberapa atribut seperti nama, usia, pendapatan serta nama perusahaan di mana karyawan tersebut bekerja. Untuk merepresentasikan diriku dan Senja sebagai karyawan yang bekerja di sebuah perusahaan **yang sama** (anggap saja perusahan ABC), aku dapat merepresentasikan dengan menggunakan konsep **class attribute**"
   ]
  },
  {
   "cell_type": "code",
   "execution_count": 4,
   "id": "7a60f798",
   "metadata": {},
   "outputs": [],
   "source": [
    "# Definisikan class Karyawan\n",
    "class Karyawan:\n",
    "    nama_perusahaan = 'ABC'"
   ]
  },
  {
   "cell_type": "code",
   "execution_count": 8,
   "id": "cf3621ca",
   "metadata": {},
   "outputs": [
    {
     "name": "stdout",
     "output_type": "stream",
     "text": [
      "DEF\n"
     ]
    }
   ],
   "source": [
    "# Inisiasi object yang dinyatakan dalam variabel aksara dan senja\n",
    "aksara = Karyawan()\n",
    "senja = Karyawan()\n",
    "# Cetak nama perusahaan melalui penggunaan keyword __class__\n",
    "# pada class attribute nama_perusahaan\n",
    "print(aksara.__class__.nama_perusahaan)"
   ]
  },
  {
   "cell_type": "code",
   "execution_count": 7,
   "id": "2b798dba",
   "metadata": {},
   "outputs": [
    {
     "name": "stdout",
     "output_type": "stream",
     "text": [
      "DEF\n",
      "DEF\n"
     ]
    }
   ],
   "source": [
    "# Ubah nama_perusahaan menjadi 'DEF'\n",
    "aksara.__class__.nama_perusahaan = 'DEF'\n",
    "# Cetak nama_perusahaan objek aksara dan senja\n",
    "print(aksara.__class__.nama_perusahaan)\n",
    "print(senja.__class__.nama_perusahaan)"
   ]
  },
  {
   "cell_type": "markdown",
   "id": "076817a8",
   "metadata": {},
   "source": [
    "Kemudian, sesuai dengan konsep yang telah aku pelajari sebelumnya, saat aku mengubah nilai atribut yang merupakan sebuah *class attribute*, nilai dari atribut akan **berubah untuk seluruh objek** saat perusahaan berubah nama, misalkan nama perusahaan berubah dari 'ABC' ke 'DEF', dikarenakan atribut nama_perusahaan merupakan sebuah *class attribute*, aku hanya cukup mengganti nama_perusahaan pada **salah satu** objek saja (**tidak perlu** mengganti nama_perusahaan milik seluruh objek)."
   ]
  },
  {
   "cell_type": "markdown",
   "id": "0f39b56b",
   "metadata": {},
   "source": [
    "Pada bagian sebelumnya aku telah mempelajari contoh deklarasi class Karyawan; nama, usia dan pendapatan karyawan adalah contoh dari konsep **instance attribute**. Hal ini dikarenakan setiap karyawan tentunya dapat memiliki nama, usia dan pendapatan yang **berbeda**."
   ]
  },
  {
   "cell_type": "code",
   "execution_count": 9,
   "id": "aaa18301",
   "metadata": {},
   "outputs": [],
   "source": [
    "# Definisikan class Karyawan\n",
    "class Karyawan:\n",
    "    nama_perusahaan = 'ABC'\n",
    "    def __init__(self, nama, usia, pendapatan):\n",
    "        self.nama = nama\n",
    "        self.usia = usia\n",
    "        self.pendapatan = pendapatan"
   ]
  },
  {
   "cell_type": "code",
   "execution_count": 11,
   "id": "be1e5d70",
   "metadata": {},
   "outputs": [],
   "source": [
    "# Buat object bernama aksara dan senja\n",
    "aksara = Karyawan('Aksara', 25, 8500000)\n",
    "senja = Karyawan('Senja', 28, 12500000)"
   ]
  },
  {
   "cell_type": "code",
   "execution_count": 12,
   "id": "0246f3ac",
   "metadata": {},
   "outputs": [
    {
     "name": "stdout",
     "output_type": "stream",
     "text": [
      "Aksara, Usia: 25, Pendapatan 8500000\n"
     ]
    }
   ],
   "source": [
    "# Cetak objek bernama aksara\n",
    "print(aksara.nama + ', Usia: ' + str(aksara.usia) + ', Pendapatan ' + str(aksara.pendapatan))"
   ]
  },
  {
   "cell_type": "code",
   "execution_count": 13,
   "id": "5d96c2f2",
   "metadata": {},
   "outputs": [
    {
     "name": "stdout",
     "output_type": "stream",
     "text": [
      "Senja, Usia: 28, Pendapatan 12500000\n"
     ]
    }
   ],
   "source": [
    "# Cetak objek bernama senja\n",
    "print(senja.nama + ', Usia: ' + str(senja.usia) + ', Pendapatan ' + str(senja.pendapatan))"
   ]
  },
  {
   "cell_type": "markdown",
   "id": "8c0f8511",
   "metadata": {},
   "source": [
    "Dari potongan kode di atas, atribut **nama, usia dan pendapatan** merupakan contoh dari *instance variabel*. \n",
    "\n",
    "Sebagai tambahan, fungsi __init__() di dalam *class Karyawan* secara khusus disebut sebagai **constructor**. Melalui sebuah constructor, aku dapat meng-assign (menginisialisasi) atribut-atribut milik sebuah objek.\n",
    "\n",
    "Pada bahasa pemrograman Python, setiap fungsi (termasuk constructor) akan menerima **dirinya sendiri (*self*) sebagai parameter pertama dari fungsi**. Kemudian, aku dapat menambahkan parameter-parameter lain setelah parameter self sesuai dengan kebutuhan. Seperti pada contoh di atas, saat objek dibuat (diinisialisasi), aku dapat melemparkan nama, usia dan pendapatan melalui syntax.\n",
    "\n",
    "Terakhir, aku belajar bahwa objek Aksara dan Senja diizinkan untuk memiliki nama, usia dan pendapatan yang **berbeda**. Untuk mengakses *instance attribute* dalam sebuah class, aku perlu menuliskan sintaks **self diikuti dengan tanda titik (.) sebelum nama atribut**."
   ]
  },
  {
   "cell_type": "markdown",
   "id": "eb3cff6e",
   "metadata": {},
   "source": [
    "# Behavior pada Class\n",
    "Selain dapat mendefinisikan atribut, dalam sebuah class, aku diperbolehkan untuk mendefinisikan fungsi-fungsi (behavior) dari sebuah class."
   ]
  },
  {
   "cell_type": "code",
   "execution_count": 8,
   "id": "16e81180",
   "metadata": {},
   "outputs": [],
   "source": [
    "# Definisikan class Karyawan berikut dengan attribut dan fungsinya\n",
    "class Karyawan:\n",
    "    nama_perusahaan = 'ABC'\n",
    "    insentif_lembur = 250000\n",
    "    def __init__(self, nama, usia, pendapatan):\n",
    "        self.nama = nama\n",
    "        self.usia = usia\n",
    "        self.pendapatan = pendapatan\n",
    "        self.pendapatan_tambahan = 0\n",
    "    def lembur(self):\n",
    "        self.pendapatan_tambahan += self.insentif_lembur\n",
    "    def tambahan_proyek(self, insentif_proyek):\n",
    "        self.pendapatan_tambahan += insentif_proyek\n",
    "    def total_pendapatan(self):\n",
    "        return self.pendapatan + self.pendapatan_tambahan\n",
    "# Buat object dari karwayan bernama Aksara dan Senja\n",
    "aksara = Karyawan('Aksara', 25, 8500000)\n",
    "senja = Karyawan('Senja', 28, 12500000)"
   ]
  },
  {
   "cell_type": "code",
   "execution_count": 9,
   "id": "102a8c01",
   "metadata": {},
   "outputs": [],
   "source": [
    "# Aksara melaksanakan lembur\n",
    "aksara.lembur()"
   ]
  },
  {
   "cell_type": "code",
   "execution_count": 10,
   "id": "2c9ef855",
   "metadata": {},
   "outputs": [],
   "source": [
    "# Senja memiliki proyek tambahan\n",
    "senja.tambahan_proyek(2500000)"
   ]
  },
  {
   "cell_type": "code",
   "execution_count": 11,
   "id": "33b4f527",
   "metadata": {},
   "outputs": [
    {
     "name": "stdout",
     "output_type": "stream",
     "text": [
      "Pendapatan Total Aksara: 8750000\n",
      "Pendapatan Total Senja: 15000000\n"
     ]
    }
   ],
   "source": [
    "# Cetak pendapatan total Aksara dan Senja\n",
    "print('Pendapatan Total Aksara: ' + str(aksara.total_pendapatan()))\n",
    "print('Pendapatan Total Senja: ' + str(senja.total_pendapatan()))"
   ]
  },
  {
   "cell_type": "markdown",
   "id": "998e4aa6",
   "metadata": {},
   "source": [
    "untuk menambahkan pendapatan lembur diriku, aku dapat menggunakan fungsi lembur() pada objek aksara.\n",
    "\n",
    "untuk menambahkan pendapatan tambahan proyek pada senja, aku dapat mengakses fungsi tambahan_proyek() pada objek senja\n",
    "\n",
    "Selanjutnya, aku dapat menghitung total pendapatanku dan Senja.\n",
    "\n",
    "Layaknya proses pendefinisian fungsi pada Python, fungsi-fungsi dalam sebuah class juga dapat memiliki parameter (seperti fungsi tambahan_proyek dalam contoh) ataupun mengembalikan sebuah nilai (seperti fungsi total_pendapatan dalam contoh)."
   ]
  },
  {
   "cell_type": "markdown",
   "id": "5d252080",
   "metadata": {},
   "source": [
    "# Encapsulation pada Python\n",
    "\n",
    "**Enkapsulasi (Encapsulation)** adalah sebuah teknik dalam OOP yang mengizinkan aku untuk **menyembunyikan** detail dari sebuah atribut dalam sebuah class. \n",
    "\n",
    "Pada contoh-contoh **sebelumnya**, setiap atribut dan fungsi yang telah aku definisikan **belum** menggunakan konsep enkapsulasi, yang mengartikan bahwa ***setiap atribut dan fungsi dapat diakses di luar class***."
   ]
  },
  {
   "cell_type": "markdown",
   "id": "30cecd66",
   "metadata": {},
   "source": [
    "Agar suatu properti ataupun fungsi dari sebuah class tidak dapat diakses secara bebas di luar scope milik suatu class, aku dapat mendefinisikan ***access modifier*** (level akses) saat sebuah atribut/fungsi didefinisikan.\n",
    "\n",
    "Terdapat 2 macam access modifier dalam Python, yakni.\n",
    "\n",
    "* **Public access**: dapat aku definisikan dengan secara langsung menuliskan nama dari atribut/ fungsi. Dalam sebuah objek, atribut/fungsi yang bersifat public access dapat diakses di luar scope sebuah class\n",
    "* **Private access**: dapat aku definisikan dengan menambahkan double underscore (__) sebelum menuliskan nama dari atribut/fungsi. Dalam sebuah objek, atribut/fungsi yang bersifat private access hanya dapat diakses di dalam scope sebuah class."
   ]
  },
  {
   "cell_type": "code",
   "execution_count": 12,
   "id": "cb38b354",
   "metadata": {},
   "outputs": [],
   "source": [
    "# Definisikan class Karyawan\n",
    "class Karyawan: \n",
    "    nama_perusahaan = 'ABC' \n",
    "    __insentif_lembur = 250000\n",
    "    def __init__(self, nama, usia, pendapatan): \n",
    "        self.__nama = nama\n",
    "        self.__usia = usia \n",
    "        self.__pendapatan = pendapatan \n",
    "        self.__pendapatan_tambahan = 0\n",
    "    def lembur(self):\n",
    "        self.__pendapatan_tambahan += self.__insentif_lembur \n",
    "    def tambahan_proyek(self, insentif_proyek):\n",
    "        self.__pendapatan_tambahan +=insentif_proyek \n",
    "    def total_pendapatan(self):\n",
    "        return self.__pendapatan + self.__pendapatan_tambahan"
   ]
  },
  {
   "cell_type": "code",
   "execution_count": 13,
   "id": "9c76190a",
   "metadata": {},
   "outputs": [],
   "source": [
    "# Buat objek karyawan bernama Aksara\n",
    "aksara = Karyawan('Aksara', 25, 8500000)"
   ]
  },
  {
   "cell_type": "code",
   "execution_count": 15,
   "id": "f18addc1",
   "metadata": {},
   "outputs": [
    {
     "name": "stdout",
     "output_type": "stream",
     "text": [
      "ABC\n"
     ]
    }
   ],
   "source": [
    "# Akses ke attribute class Karyawan\n",
    "print(aksara.__class__.nama_perusahaan)"
   ]
  },
  {
   "cell_type": "markdown",
   "id": "164d53c8",
   "metadata": {},
   "source": [
    "Pada potongan kode di atas, atribut nama_perusahaan bersifat public yang mengartikan bahwa aku dapat mengakses atribut ini di luar scope class Karyawan."
   ]
  },
  {
   "cell_type": "code",
   "execution_count": 6,
   "id": "cbe6d2ce",
   "metadata": {},
   "outputs": [
    {
     "ename": "AttributeError",
     "evalue": "type object 'Karyawan' has no attribute '__nama'",
     "output_type": "error",
     "traceback": [
      "\u001b[1;31m---------------------------------------------------------------------------\u001b[0m",
      "\u001b[1;31mAttributeError\u001b[0m                            Traceback (most recent call last)",
      "\u001b[1;32m~\\AppData\\Local\\Temp/ipykernel_1000/989205806.py\u001b[0m in \u001b[0;36m<module>\u001b[1;34m\u001b[0m\n\u001b[0;32m      1\u001b[0m \u001b[1;31m# Akan menimbulkan error ketika di run\u001b[0m\u001b[1;33m\u001b[0m\u001b[1;33m\u001b[0m\u001b[1;33m\u001b[0m\u001b[0m\n\u001b[1;32m----> 2\u001b[1;33m \u001b[0mprint\u001b[0m\u001b[1;33m(\u001b[0m\u001b[0maksara\u001b[0m\u001b[1;33m.\u001b[0m\u001b[0m__class__\u001b[0m\u001b[1;33m.\u001b[0m\u001b[0m__nama\u001b[0m\u001b[1;33m)\u001b[0m\u001b[1;33m\u001b[0m\u001b[1;33m\u001b[0m\u001b[0m\n\u001b[0m",
      "\u001b[1;31mAttributeError\u001b[0m: type object 'Karyawan' has no attribute '__nama'"
     ]
    }
   ],
   "source": [
    "# Akan menimbulkan error ketika di run\n",
    "print(aksara.__nama)"
   ]
  },
  {
   "cell_type": "markdown",
   "id": "241b49a9",
   "metadata": {},
   "source": [
    "Kemudian, atribut __nama, __usia, __pendapatan_tambahan, __insentif_lembur dan pendapatan bersifat ***private*** sehingga atribut ini **hanya dapat diakses** di dalam scope class Karyawan.\n",
    "\n",
    "Saat aku mencoba mengakses atribut-atribut ini di luar scope class Karyawan, Python akan mengembalikan ***error*** yang menyatakan bahwa class Karyawan tidak memiliki atribut tersebut."
   ]
  },
  {
   "cell_type": "markdown",
   "id": "94b9e422",
   "metadata": {},
   "source": [
    "# Inheritance pada Python\n",
    "**Inheritance** adalah salah satu mekanisme di konsep OO yang mengizinkan aku untuk **mendefinisikan** sebuah *class baru* berdasarkan class yang **sebelumnya** telah dideklarasikan.\n",
    "\n",
    "Melalui konsep inheritance, sebuah class baru dapat memiliki atribut dan fungsi pada class yang sebelumnya telah didefinisikan. Pada konsep inheritance, atribut/fungsi yang akan **diwariskan** hanyalah atribut/fungsi dengan access ***modifier public***, atribut/fungsi dengan access modifier private **tidak** akan diturunkan.\n",
    "\n"
   ]
  },
  {
   "cell_type": "code",
   "execution_count": 1,
   "id": "ecf3e3b1",
   "metadata": {},
   "outputs": [],
   "source": [
    "# Definisikan class Karyawan (sebagai base class)\n",
    "class Karyawan: \n",
    "    nama_perusahaan = 'ABC' \n",
    "    insentif_lembur = 250000\n",
    "    def __init__(self, nama, usia, pendapatan): \n",
    "        self.nama = nama\n",
    "        self.usia = usia \n",
    "        self.pendapatan = pendapatan \n",
    "        self.pendapatan_tambahan = 0\n",
    "    def lembur(self):\n",
    "        self.pendapatan_tambahan += self.insentif_lembur \n",
    "    def tambahan_proyek(self, insentif_proyek):\n",
    "        self.pendapatan_tambahan += insentif_proyek \n",
    "    def total_pendapatan(self):\n",
    "        return self.pendapatan + self.pendapatan_tambahan"
   ]
  },
  {
   "cell_type": "markdown",
   "id": "34acbe9c",
   "metadata": {},
   "source": [
    "melakukan inheritance (menurunkan seluruh atribut dan fungsi dari class Karyawan) ke ***class AnalisData***"
   ]
  },
  {
   "cell_type": "code",
   "execution_count": 2,
   "id": "62951b04",
   "metadata": {},
   "outputs": [],
   "source": [
    "# Buat class turunan (sebagai inherit class) dari class karyawan, \n",
    "# yaitu class AnalisData\n",
    "class AnalisData(Karyawan):\n",
    "    def __init__(self, nama, usia, pendapatan):\n",
    "    # melakukan pemanggilan konstruktur class Karyawan \n",
    "        super().__init__(nama, usia, pendapatan)"
   ]
  },
  {
   "cell_type": "markdown",
   "id": "9713a236",
   "metadata": {},
   "source": [
    "melakukan inheritance (menurunkan seluruh atribut dan fungsi dari class Karyawan) ke ***class IlmuwanData***"
   ]
  },
  {
   "cell_type": "code",
   "execution_count": 3,
   "id": "14044d12",
   "metadata": {},
   "outputs": [],
   "source": [
    "# Buat kembali class turunan (sebagai inherit class) dari class karyawan,  \n",
    "# yaitu class IlmuwanData\n",
    "class IlmuwanData(Karyawan):\n",
    "    def __init__(self, nama, usia, pendapatan):\n",
    "        # melakukan pemanggilan konstruktur class Karyawan \n",
    "        super().__init__(nama, usia, pendapatan)"
   ]
  },
  {
   "cell_type": "markdown",
   "id": "cd610bf6",
   "metadata": {},
   "source": [
    "objek AnalisData dapat mengakses fungsi lembur milik *class Karyawan*"
   ]
  },
  {
   "cell_type": "code",
   "execution_count": 4,
   "id": "d063f0d2",
   "metadata": {},
   "outputs": [
    {
     "name": "stdout",
     "output_type": "stream",
     "text": [
      "8750000\n"
     ]
    }
   ],
   "source": [
    "# Buat objek karyawan yang bekerja sebagai AnalisData\n",
    "aksara = AnalisData('Aksara', 25, 8500000)\n",
    "aksara.lembur()\n",
    "print(aksara.total_pendapatan())"
   ]
  },
  {
   "cell_type": "markdown",
   "id": "a06d8bea",
   "metadata": {},
   "source": [
    "Selanjutnya,\n",
    "\n",
    "objek IlmuwanData dapat mengakses fungsi tambahan_proyek milik class Karyawan"
   ]
  },
  {
   "cell_type": "code",
   "execution_count": 5,
   "id": "d0c74b67",
   "metadata": {},
   "outputs": [
    {
     "name": "stdout",
     "output_type": "stream",
     "text": [
      "15000000\n"
     ]
    }
   ],
   "source": [
    "# Buat objek karyawan yang bekerja sebagai IlmuwanData\n",
    "senja = IlmuwanData('Senja', 28, 13000000)\n",
    "senja.tambahan_proyek(2000000)\n",
    "print(senja.total_pendapatan())"
   ]
  },
  {
   "cell_type": "markdown",
   "id": "4d3e1b2a",
   "metadata": {},
   "source": [
    "### Penjelasan:\n",
    "Melalui potongan kode di atas, aku telah menerapkan konsep inheritance. Melalui konsep inheritance *class AnalisData dan IlmuwanData* akan **memiliki setiap atribut dan fungsi yang dimiliki oleh class Karyawan** (Hal ini dikarenakan seluruh atribut dan fungsi dari class Karyawan bersifat **public**).\n",
    "\n",
    "Pada konsep inheritance, class AnalisData dan class IlmuwanData disebut sebagai **child class** dari class Karyawan; sehingga class Karyawan dapat disebut sebagai **parent class** dari class AnalisData dan IlmuwanData.\n",
    "\n",
    "Suatu child class dapat *mengakses atribut ataupun fungsi* yang dimiliki oleh parent class dengan menggunakan fungsi `super()`. Pada contoh di atas, fungsi super() digunakan oleh child class (AnalisData dan IlmuwanData) untuk mengakses constructor yang dimiliki oleh parent class (Karyawan).\n",
    "\n",
    "*****Catatan*****: Sebenarnya, aku tidak perlu mendefinisikan kembali fungsi (termasuk constructor) ataupun properti yang memiliki public access modifier di sebuah child class. Python akan secara otomatis mewariskan seluruh fungsi dan properti dengan public access modifier ke sebuah child class. Contoh potongan kode di atas hanya diperkenankan untuk mencontohkan penggunaan fungsi super()."
   ]
  },
  {
   "cell_type": "markdown",
   "id": "84a8edaf",
   "metadata": {},
   "source": [
    "Melalui konsep inheritance, child class dapat memodifikasi atribut/ fungsi yang diwarisi oleh sebuah parent class dengan mendefinisikan ulang atribut/ fungsi menggunakan nama yang sama. "
   ]
  },
  {
   "cell_type": "code",
   "execution_count": null,
   "id": "3567c786",
   "metadata": {},
   "outputs": [],
   "source": [
    "# Definisikan class Karyawan (sebagai base class)\n",
    "class Karyawan: \n",
    "    nama_perusahaan = 'ABC' \n",
    "    insentif_lembur = 250000\n",
    "    def __init__(self, nama, usia, pendapatan): \n",
    "        self.nama = nama\n",
    "        self.usia = usia \n",
    "        self.pendapatan = pendapatan \n",
    "        self.pendapatan_tambahan = 0\n",
    "    def lembur(self):\n",
    "        self.pendapatan_tambahan += self.insentif_lembur \n",
    "    def tambahan_proyek(self, insentif_proyek):\n",
    "        self.pendapatan_tambahan += insentif_proyek \n",
    "    def total_pendapatan(self):\n",
    "        return self.pendapatan + self.pendapatan_tambahan"
   ]
  },
  {
   "cell_type": "code",
   "execution_count": null,
   "id": "0f7abf9b",
   "metadata": {},
   "outputs": [],
   "source": [
    "# Buat class turunan (sebagai inherit class) dari class karyawan, \n",
    "# yaitu class AnalisData\n",
    "class AnalisData(Karyawan):\n",
    "    def __init__(self, nama, usia, pendapatan):\n",
    "    # melakukan pemanggilan konstruktur class Karyawan \n",
    "        super().__init__(nama, usia, pendapatan)"
   ]
  },
  {
   "cell_type": "markdown",
   "id": "3f22de1e",
   "metadata": {},
   "source": [
    "Fungsi lembur pada objek aksara sebagai bagian dari class AnalisData akan menambahkan total_pendapatan milik objek sebesar 250000 mengikuti insentif_lembur milik class Karyawan"
   ]
  },
  {
   "cell_type": "code",
   "execution_count": null,
   "id": "4c964c60",
   "metadata": {},
   "outputs": [],
   "source": [
    "# Buat kembali class turunan (sebagai inherit class) dari class karyawan,  \n",
    "# yaitu class IlmuwanData\n",
    "class IlmuwanData(Karyawan):\n",
    "    # mengubah atribut insentif_lembur yang digunakan pada fungsi lembur()\n",
    "    insentif_lembur = 500000\n",
    "    def __init__(self, nama, usia, pendapatan): \n",
    "        super().__init__(nama, usia, pendapatan)"
   ]
  },
  {
   "cell_type": "markdown",
   "id": "2d2e77f4",
   "metadata": {},
   "source": [
    "Selanjutnya,\n",
    "\n",
    "fungsi lembur pada objek senja sebagai bagian dari class IlmuwanData akan menambahkan total_pendapatan milik objek sebesar 500000 dikarenakan class IlmuwanData telah mendefinisikan kembali nilai insentif lembur menjadi 500000"
   ]
  },
  {
   "cell_type": "code",
   "execution_count": null,
   "id": "fbd17eb4",
   "metadata": {},
   "outputs": [],
   "source": [
    "# Buat objek karyawan yang bekerja sebagai AnalisData\n",
    "aksara = AnalisData('Aksara', 25, 8500000)\n",
    "aksara.lembur()\n",
    "print(aksara.total_pendapatan())"
   ]
  },
  {
   "cell_type": "code",
   "execution_count": null,
   "id": "0140cdce",
   "metadata": {},
   "outputs": [],
   "source": [
    "# Buat objek karyawan yang bekerja sebagai IlmuwanData\n",
    "senja = IlmuwanData('Senja', 28, 13000000)\n",
    "senja.lembur()\n",
    "print(senja.total_pendapatan())"
   ]
  },
  {
   "cell_type": "markdown",
   "id": "88d3ee02",
   "metadata": {},
   "source": [
    "# Polymorphism pada Python\n",
    "\n",
    "Selain dapat mendefinisikan ulang nilai dari *atribut* yang diwarisi oleh parent class seperti pada contoh di atas, aku juga dapat juga dapat mendefinisikan ulang *fungsi* yang telah diwarisi oleh parent class.\n",
    "\n",
    "Saat aku mendefinisikan kembali fungsi yang telah diwarisi oleh parent class, secara tidak langsung aku telah menerapkan salah satu mekanisme yang secara khusus pada paradigma OO disebut dengan istilah **polymorphism**."
   ]
  },
  {
   "cell_type": "code",
   "execution_count": 9,
   "id": "1cb0782e",
   "metadata": {},
   "outputs": [],
   "source": [
    "# Definisikan class Karyawan (sebagai base class)\n",
    "class Karyawan: \n",
    "    nama_perusahaan = 'ABC' \n",
    "    insentif_lembur = 250000\n",
    "    def __init__(self, nama, usia, pendapatan): \n",
    "        self.nama = nama\n",
    "        self.usia = usia \n",
    "        self.pendapatan = pendapatan \n",
    "        self.pendapatan_tambahan = 0\n",
    "    def lembur(self):\n",
    "        self.pendapatan_tambahan += self.insentif_lembur \n",
    "    def tambahan_proyek(self, insentif_proyek):\n",
    "        self.pendapatan_tambahan += insentif_proyek \n",
    "    def total_pendapatan(self):\n",
    "        return self.pendapatan + self.pendapatan_tambahan"
   ]
  },
  {
   "cell_type": "markdown",
   "id": "40c6a495",
   "metadata": {},
   "source": [
    "Aku melakukan pemanggilan konstruktur class Karyawan, menerapkan polymorphism dengan **mendefinisikan kembali** fungsi lembur() pada AnalisData, dan menambahkan 10% tambahan pendapatan pada class AnalisData"
   ]
  },
  {
   "cell_type": "code",
   "execution_count": 10,
   "id": "29816525",
   "metadata": {},
   "outputs": [],
   "source": [
    "# Buat class turunan (sebagai inherit class) dari class karyawan, \n",
    "# yaitu class AnalisData\n",
    "class AnalisData(Karyawan):\n",
    "    def __init__(self, nama, usia, pendapatan):\n",
    "    # melakukan pemanggilan konstruktur class Karyawan \n",
    "        super().__init__(nama, usia, pendapatan)\n",
    "    # menerapkan polymorphism dengan mendefinisikan kembali fungsi \n",
    "    # lembur() pada class AnalisData \n",
    "    def lembur(self):\n",
    "        # pendapatan tambahan pada class AnalisData sebesar\n",
    "        # 10 % dari pendapatannya.\n",
    "        self.pendapatan_tambahan += int(self.pendapatan * 0.1)"
   ]
  },
  {
   "cell_type": "markdown",
   "id": "73e854c2",
   "metadata": {},
   "source": [
    "fungsi `lembur()` pada objek aksara sebagai bagian dari class AnalisData akan menambahkan total_pendapatan milik objek sebesar 850000 (10% dari pendapatannya) mengikuti definisi dari fungsi lembur() pada class AnalisData"
   ]
  },
  {
   "cell_type": "code",
   "execution_count": 11,
   "id": "a1303f2b",
   "metadata": {},
   "outputs": [
    {
     "name": "stdout",
     "output_type": "stream",
     "text": [
      "9350000\n"
     ]
    }
   ],
   "source": [
    "# Buat objek karyawan yang bekerja sebagai AnalisData\n",
    "aksara = AnalisData('Aksara', 25, 8500000)\n",
    "aksara.lembur()\n",
    "print(aksara.total_pendapatan())"
   ]
  },
  {
   "cell_type": "markdown",
   "id": "699afeca",
   "metadata": {},
   "source": [
    "Pada konsep **inheritance**, melalui fungsi `super()`, selain dapat mengakses *constructor* milik parent class, child class juga dapat mengakses ***atribut/fungsi*** yang dimiliki oleh parent class."
   ]
  },
  {
   "cell_type": "code",
   "execution_count": 12,
   "id": "870472ba",
   "metadata": {},
   "outputs": [],
   "source": [
    "# Definisikan class Karyawan (sebagai base class)\n",
    "class Karyawan: \n",
    "    nama_perusahaan = 'ABC' \n",
    "    insentif_lembur = 250000\n",
    "    def __init__(self, nama, usia, pendapatan): \n",
    "        self.nama = nama\n",
    "        self.usia = usia \n",
    "        self.pendapatan = pendapatan \n",
    "        self.pendapatan_tambahan = 0\n",
    "    def lembur(self):\n",
    "        self.pendapatan_tambahan += self.insentif_lembur \n",
    "    def tambahan_proyek(self, insentif_proyek):\n",
    "        self.pendapatan_tambahan += insentif_proyek \n",
    "    def total_pendapatan(self):\n",
    "        return self.pendapatan + self.pendapatan_tambahan"
   ]
  },
  {
   "cell_type": "code",
   "execution_count": 13,
   "id": "47f098db",
   "metadata": {},
   "outputs": [],
   "source": [
    "# Buat class turunan (sebagai inherit class) dari class karyawan, \n",
    "# yaitu class AnalisData\n",
    "class AnalisData(Karyawan):\n",
    "    def __init__(self, nama, usia, pendapatan): \n",
    "        super().__init__ (nama, usia, pendapatan)\n",
    "    # mendefinisikan kembali fungsi lembur() pada class AnalisData \n",
    "    def lembur(self):\n",
    "        # memanggil fungsi lembur pada class Karyawan \n",
    "        super().lembur()\n",
    "        # pendapatan tambahan pada class AnalisData sebesar\n",
    "        # 5 % dari pendapatannya.\n",
    "        self.pendapatan_tambahan += int(self.pendapatan * 0.05)"
   ]
  },
  {
   "cell_type": "code",
   "execution_count": 14,
   "id": "f4c1e81e",
   "metadata": {},
   "outputs": [
    {
     "name": "stdout",
     "output_type": "stream",
     "text": [
      "9175000\n"
     ]
    }
   ],
   "source": [
    "# Buat objek karyawan yang bekerja sebagai AnalisData\n",
    "aksara = AnalisData('Aksara', 25, 8500000)\n",
    "aksara.lembur()\n",
    "print(aksara.total_pendapatan())"
   ]
  },
  {
   "cell_type": "markdown",
   "id": "413d0e63",
   "metadata": {},
   "source": [
    "# Overloading\n",
    "Pada bahasa pemrograman lain yang mendukung paradigma OO seperti C# ataupun Java, *polymorphism* juga dapat diterapkan melalui sebuah fitur yang dikenal dengan istilah metode ***overloading***.\n",
    "\n",
    "Metode *overloading* mengizinkan sebuah class untuk memiliki sekumpulan **fungsi dengan nama yang sama** dan **parameter yang berbeda**. Berkaitan dengan hal ini, Python ***tidak*** mengizinkan pendeklarasian fungsi (baik pada class ataupun tidak) dengan nama yang sama.\n",
    "\n",
    "Untuk mengimplementasikan method overloading pada Python, aku dapat menggunakan sebuah teknik yang dikenal dengan `function default parameters`."
   ]
  },
  {
   "cell_type": "code",
   "execution_count": null,
   "id": "7a43bd0c",
   "metadata": {},
   "outputs": [],
   "source": []
  },
  {
   "cell_type": "code",
   "execution_count": null,
   "id": "b108d4e4",
   "metadata": {},
   "outputs": [],
   "source": []
  },
  {
   "cell_type": "code",
   "execution_count": null,
   "id": "57ae44ad",
   "metadata": {},
   "outputs": [],
   "source": []
  },
  {
   "cell_type": "code",
   "execution_count": null,
   "id": "f9309ebf",
   "metadata": {},
   "outputs": [],
   "source": []
  },
  {
   "cell_type": "code",
   "execution_count": null,
   "id": "c172b3a0",
   "metadata": {},
   "outputs": [],
   "source": []
  },
  {
   "cell_type": "code",
   "execution_count": null,
   "id": "74496b23",
   "metadata": {},
   "outputs": [],
   "source": []
  }
 ],
 "metadata": {
  "kernelspec": {
   "display_name": "Python 3 (ipykernel)",
   "language": "python",
   "name": "python3"
  },
  "language_info": {
   "codemirror_mode": {
    "name": "ipython",
    "version": 3
   },
   "file_extension": ".py",
   "mimetype": "text/x-python",
   "name": "python",
   "nbconvert_exporter": "python",
   "pygments_lexer": "ipython3",
   "version": "3.9.6"
  }
 },
 "nbformat": 4,
 "nbformat_minor": 5
}
