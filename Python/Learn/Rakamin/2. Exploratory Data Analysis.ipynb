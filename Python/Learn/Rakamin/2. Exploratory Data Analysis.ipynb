{
 "cells": [
  {
   "cell_type": "markdown",
   "metadata": {},
   "source": [
    "## Import Modules"
   ]
  },
  {
   "cell_type": "code",
   "execution_count": 1,
   "metadata": {
    "ExecuteTime": {
     "end_time": "2020-08-29T04:35:22.605758Z",
     "start_time": "2020-08-29T04:35:22.483778Z"
    },
    "id": "FCAHqFN_Wcnb"
   },
   "outputs": [],
   "source": [
    "import numpy as np\n",
    "import pandas as pd\n",
    "import matplotlib.pyplot as plt\n",
    "import seaborn as sns"
   ]
  },
  {
   "cell_type": "markdown",
   "metadata": {
    "id": "Ahp0IZElWcnb"
   },
   "source": [
    "### Mengubah parameter default matplotlib\n",
    "Parameter default matplotlib dapat diubah dengan rcParams sebagai berikut"
   ]
  },
  {
   "cell_type": "code",
   "execution_count": 2,
   "metadata": {
    "ExecuteTime": {
     "end_time": "2020-08-29T04:35:23.229059Z",
     "start_time": "2020-08-29T04:35:23.214079Z"
    },
    "id": "ULs8_FOiWcnb"
   },
   "outputs": [],
   "source": [
    "from matplotlib import rcParams\n",
    "\n",
    "rcParams['figure.figsize'] = (12,4)\n",
    "rcParams['lines.linewidth'] = 3\n",
    "rcParams['xtick.labelsize'] = 'x-large'\n",
    "rcParams['ytick.labelsize'] = 'x-large'"
   ]
  },
  {
   "cell_type": "markdown",
   "metadata": {
    "id": "gFqDHXnkWcnb"
   },
   "source": [
    "## Load dataset"
   ]
  },
  {
   "cell_type": "markdown",
   "metadata": {
    "id": "Z3j9jQQYWcnb"
   },
   "source": [
    "Data yang digunakan untuk analisis adalah dataset sintetik prediksi kebotakan. Agar running time-nya tidak terlalu lama, kali ini kita ambil sampel 1000 baris data saja."
   ]
  },
  {
   "cell_type": "code",
   "execution_count": 3,
   "metadata": {
    "ExecuteTime": {
     "end_time": "2020-08-29T04:35:24.161264Z",
     "start_time": "2020-08-29T04:35:23.966992Z"
    },
    "id": "enaTJCbmWcnb"
   },
   "outputs": [],
   "source": [
    "# change file path if necessary\n",
    "df = pd.read_csv('botak.csv').sample(1000, random_state=42)"
   ]
  },
  {
   "cell_type": "markdown",
   "metadata": {
    "id": "XGx3fpRKWcnb"
   },
   "source": [
    "## Descriptive Statistics\n",
    "### Memeriksa kolom-kolom dan nilai hilang dengan `df.info()`"
   ]
  },
  {
   "cell_type": "markdown",
   "metadata": {
    "id": "5i0I3cfZWcnb"
   },
   "source": [
    "Hal pertama yang biasanya dilakukan dalam EDA adalah mengecek tipe data setiap kolom dan jumlah nilai yang hilang. Hal ini bisa kita lakukan dengan menggunakan `df.info()`."
   ]
  },
  {
   "cell_type": "code",
   "execution_count": 4,
   "metadata": {
    "ExecuteTime": {
     "end_time": "2020-08-29T04:35:25.695391Z",
     "start_time": "2020-08-29T04:35:25.649431Z"
    },
    "colab": {
     "base_uri": "https://localhost:8080/"
    },
    "id": "7RfJI0fnWcnb",
    "outputId": "a96b4ea4-15c5-4a2d-a35a-1e331b4f2e3a",
    "scrolled": true
   },
   "outputs": [
    {
     "name": "stdout",
     "output_type": "stream",
     "text": [
      "<class 'pandas.core.frame.DataFrame'>\n",
      "Int64Index: 1000 entries, 1142 to 7212\n",
      "Data columns (total 13 columns):\n",
      " #   Column         Non-Null Count  Dtype  \n",
      "---  ------         --------------  -----  \n",
      " 0   umur           1000 non-null   float64\n",
      " 1   jenis_kelamin  1000 non-null   object \n",
      " 2   pekerjaan      986 non-null    object \n",
      " 3   provinsi       1000 non-null   object \n",
      " 4   gaji           1000 non-null   float64\n",
      " 5   is_menikah     1000 non-null   int64  \n",
      " 6   is_keturunan   997 non-null    float64\n",
      " 7   berat          1000 non-null   float64\n",
      " 8   tinggi         1000 non-null   float64\n",
      " 9   sampo          1000 non-null   object \n",
      " 10  is_merokok     1000 non-null   int64  \n",
      " 11  pendidikan     1000 non-null   object \n",
      " 12  botak_prob     1000 non-null   float64\n",
      "dtypes: float64(6), int64(2), object(5)\n",
      "memory usage: 109.4+ KB\n"
     ]
    }
   ],
   "source": [
    "df.info()"
   ]
  },
  {
   "cell_type": "markdown",
   "metadata": {
    "id": "c5yhcpExWcnc"
   },
   "source": [
    "Kita dapat melihat bahwa:\n",
    "* Dataframe memiliki total 1000 baris dan 13 kolom\n",
    "* Dataframe masih memiliki *null* values di kolom `pekerjaan` dan `is_keturunan`\n",
    "* Target klasifikasi sepertinya adalah kolom `botak_prob` dengan tipe data `float64`\n",
    "* Berarti sisanya adalah *feature*\n",
    "\n",
    "Dari informasi di atas, kita bisa pisahkan kolom kategorical dan numerical sebagai berikut:"
   ]
  },
  {
   "cell_type": "code",
   "execution_count": 4,
   "metadata": {
    "ExecuteTime": {
     "end_time": "2020-08-29T00:32:04.700005Z",
     "start_time": "2020-08-29T00:32:04.696008Z"
    },
    "id": "UbKney-6Wcnc"
   },
   "outputs": [],
   "source": [
    "cats = ['jenis_kelamin', 'pekerjaan', 'sampo', 'pendidikan', 'provinsi']\n",
    "nums = ['umur', 'gaji', 'is_menikah', 'is_keturunan', 'berat', 'tinggi', 'is_merokok', 'botak_prob']"
   ]
  },
  {
   "cell_type": "markdown",
   "metadata": {
    "id": "Q7lgvwtNWcnc"
   },
   "source": [
    "Tentu saja menyimpan nama kolom berdasarkan tipe *numeric* dan *categorical* seperti di atas tidak wajib, tapi ini lumayan akan memudahkan beberapa proses ke depannya."
   ]
  },
  {
   "cell_type": "markdown",
   "metadata": {
    "id": "6bOquij0Wcnc"
   },
   "source": [
    "### Sampling untuk memahami data dengan `df.sample()`"
   ]
  },
  {
   "cell_type": "markdown",
   "metadata": {
    "id": "duQ19hmcWcnc"
   },
   "source": [
    "Setelah mengetahui kolom apa saja yang ada di dalam dataset, kita lakukan sampling untuk memastikan apakah isi kolomnya sesuai ekspektasi. Biasakan lakukan ini beberapa kali karena seringkali apabila ada keanehan tidak akan keluar pada sampling pertama.\n",
    "\n",
    "Sampling dapat dilakukan dengan menggunakan `df.sample()`"
   ]
  },
  {
   "cell_type": "code",
   "execution_count": 6,
   "metadata": {
    "ExecuteTime": {
     "end_time": "2020-08-29T04:36:13.934642Z",
     "start_time": "2020-08-29T04:36:13.906657Z"
    },
    "colab": {
     "base_uri": "https://localhost:8080/",
     "height": 504
    },
    "id": "T2c32UrTWcnc",
    "outputId": "c29c277a-aa20-4f0e-d5ba-f3493181d1f2",
    "scrolled": true
   },
   "outputs": [
    {
     "data": {
      "text/html": [
       "<div>\n",
       "<style scoped>\n",
       "    .dataframe tbody tr th:only-of-type {\n",
       "        vertical-align: middle;\n",
       "    }\n",
       "\n",
       "    .dataframe tbody tr th {\n",
       "        vertical-align: top;\n",
       "    }\n",
       "\n",
       "    .dataframe thead th {\n",
       "        text-align: right;\n",
       "    }\n",
       "</style>\n",
       "<table border=\"1\" class=\"dataframe\">\n",
       "  <thead>\n",
       "    <tr style=\"text-align: right;\">\n",
       "      <th></th>\n",
       "      <th>umur</th>\n",
       "      <th>jenis_kelamin</th>\n",
       "      <th>pekerjaan</th>\n",
       "      <th>provinsi</th>\n",
       "      <th>gaji</th>\n",
       "      <th>is_menikah</th>\n",
       "      <th>is_keturunan</th>\n",
       "      <th>berat</th>\n",
       "      <th>tinggi</th>\n",
       "      <th>sampo</th>\n",
       "      <th>is_merokok</th>\n",
       "      <th>pendidikan</th>\n",
       "      <th>botak_prob</th>\n",
       "    </tr>\n",
       "  </thead>\n",
       "  <tbody>\n",
       "    <tr>\n",
       "      <th>4959</th>\n",
       "      <td>32.0</td>\n",
       "      <td>Perempuan</td>\n",
       "      <td>Pegawai swasta</td>\n",
       "      <td>Pontianak</td>\n",
       "      <td>1.375421e+07</td>\n",
       "      <td>0</td>\n",
       "      <td>1.0</td>\n",
       "      <td>56.201309</td>\n",
       "      <td>159.761818</td>\n",
       "      <td>Pantone</td>\n",
       "      <td>0</td>\n",
       "      <td>SMP</td>\n",
       "      <td>0.420646</td>\n",
       "    </tr>\n",
       "    <tr>\n",
       "      <th>2304</th>\n",
       "      <td>31.0</td>\n",
       "      <td>Perempuan</td>\n",
       "      <td>PNS</td>\n",
       "      <td>Semarang</td>\n",
       "      <td>8.259430e+06</td>\n",
       "      <td>0</td>\n",
       "      <td>1.0</td>\n",
       "      <td>61.260966</td>\n",
       "      <td>158.584715</td>\n",
       "      <td>Moonsilk</td>\n",
       "      <td>0</td>\n",
       "      <td>S1</td>\n",
       "      <td>0.538522</td>\n",
       "    </tr>\n",
       "    <tr>\n",
       "      <th>7541</th>\n",
       "      <td>43.0</td>\n",
       "      <td>Laki-laki</td>\n",
       "      <td>Pegawai swasta</td>\n",
       "      <td>Jakarta</td>\n",
       "      <td>6.838204e+06</td>\n",
       "      <td>0</td>\n",
       "      <td>0.0</td>\n",
       "      <td>52.258463</td>\n",
       "      <td>161.772535</td>\n",
       "      <td>Shoulder &amp; Head</td>\n",
       "      <td>1</td>\n",
       "      <td>S3</td>\n",
       "      <td>0.402677</td>\n",
       "    </tr>\n",
       "    <tr>\n",
       "      <th>7660</th>\n",
       "      <td>44.0</td>\n",
       "      <td>Laki-laki</td>\n",
       "      <td>Pengangguran</td>\n",
       "      <td>Mataram</td>\n",
       "      <td>4.251980e+06</td>\n",
       "      <td>0</td>\n",
       "      <td>0.0</td>\n",
       "      <td>45.914044</td>\n",
       "      <td>148.210249</td>\n",
       "      <td>Deadbuoy</td>\n",
       "      <td>1</td>\n",
       "      <td>SMA</td>\n",
       "      <td>0.728229</td>\n",
       "    </tr>\n",
       "    <tr>\n",
       "      <th>48</th>\n",
       "      <td>33.0</td>\n",
       "      <td>Laki-laki</td>\n",
       "      <td>Freelance</td>\n",
       "      <td>Mamuju</td>\n",
       "      <td>7.895492e+06</td>\n",
       "      <td>0</td>\n",
       "      <td>0.0</td>\n",
       "      <td>50.739755</td>\n",
       "      <td>151.394437</td>\n",
       "      <td>Moonsilk</td>\n",
       "      <td>1</td>\n",
       "      <td>S1</td>\n",
       "      <td>0.263791</td>\n",
       "    </tr>\n",
       "    <tr>\n",
       "      <th>6501</th>\n",
       "      <td>42.0</td>\n",
       "      <td>Laki-laki</td>\n",
       "      <td>Pegawai swasta</td>\n",
       "      <td>Ambon</td>\n",
       "      <td>1.257573e+07</td>\n",
       "      <td>0</td>\n",
       "      <td>0.0</td>\n",
       "      <td>46.153546</td>\n",
       "      <td>154.932552</td>\n",
       "      <td>Pantone</td>\n",
       "      <td>1</td>\n",
       "      <td>S1</td>\n",
       "      <td>0.421174</td>\n",
       "    </tr>\n",
       "    <tr>\n",
       "      <th>7096</th>\n",
       "      <td>50.0</td>\n",
       "      <td>Perempuan</td>\n",
       "      <td>Pengangguran</td>\n",
       "      <td>Banda Lampung</td>\n",
       "      <td>8.199908e+06</td>\n",
       "      <td>0</td>\n",
       "      <td>0.0</td>\n",
       "      <td>44.964737</td>\n",
       "      <td>163.379161</td>\n",
       "      <td>Merpati</td>\n",
       "      <td>0</td>\n",
       "      <td>S1</td>\n",
       "      <td>0.639160</td>\n",
       "    </tr>\n",
       "    <tr>\n",
       "      <th>5382</th>\n",
       "      <td>40.0</td>\n",
       "      <td>Perempuan</td>\n",
       "      <td>PNS</td>\n",
       "      <td>Padang</td>\n",
       "      <td>4.757562e+06</td>\n",
       "      <td>0</td>\n",
       "      <td>0.0</td>\n",
       "      <td>61.460162</td>\n",
       "      <td>158.662128</td>\n",
       "      <td>Moonsilk</td>\n",
       "      <td>1</td>\n",
       "      <td>S3</td>\n",
       "      <td>0.353719</td>\n",
       "    </tr>\n",
       "    <tr>\n",
       "      <th>1803</th>\n",
       "      <td>57.0</td>\n",
       "      <td>Laki-laki</td>\n",
       "      <td>Pegawai swasta</td>\n",
       "      <td>Ambon</td>\n",
       "      <td>1.357200e+07</td>\n",
       "      <td>0</td>\n",
       "      <td>0.0</td>\n",
       "      <td>47.853799</td>\n",
       "      <td>154.665995</td>\n",
       "      <td>Pantone</td>\n",
       "      <td>1</td>\n",
       "      <td>S1</td>\n",
       "      <td>0.550949</td>\n",
       "    </tr>\n",
       "    <tr>\n",
       "      <th>3187</th>\n",
       "      <td>40.0</td>\n",
       "      <td>Perempuan</td>\n",
       "      <td>PNS</td>\n",
       "      <td>Pekanbaru</td>\n",
       "      <td>7.032246e+06</td>\n",
       "      <td>0</td>\n",
       "      <td>0.0</td>\n",
       "      <td>43.182935</td>\n",
       "      <td>148.584670</td>\n",
       "      <td>Moonsilk</td>\n",
       "      <td>0</td>\n",
       "      <td>S1</td>\n",
       "      <td>0.231343</td>\n",
       "    </tr>\n",
       "  </tbody>\n",
       "</table>\n",
       "</div>"
      ],
      "text/plain": [
       "      umur jenis_kelamin       pekerjaan       provinsi          gaji  \\\n",
       "4959  32.0     Perempuan  Pegawai swasta      Pontianak  1.375421e+07   \n",
       "2304  31.0     Perempuan             PNS       Semarang  8.259430e+06   \n",
       "7541  43.0     Laki-laki  Pegawai swasta        Jakarta  6.838204e+06   \n",
       "7660  44.0     Laki-laki    Pengangguran        Mataram  4.251980e+06   \n",
       "48    33.0     Laki-laki       Freelance         Mamuju  7.895492e+06   \n",
       "6501  42.0     Laki-laki  Pegawai swasta          Ambon  1.257573e+07   \n",
       "7096  50.0     Perempuan    Pengangguran  Banda Lampung  8.199908e+06   \n",
       "5382  40.0     Perempuan             PNS         Padang  4.757562e+06   \n",
       "1803  57.0     Laki-laki  Pegawai swasta          Ambon  1.357200e+07   \n",
       "3187  40.0     Perempuan             PNS      Pekanbaru  7.032246e+06   \n",
       "\n",
       "      is_menikah  is_keturunan      berat      tinggi            sampo  \\\n",
       "4959           0           1.0  56.201309  159.761818          Pantone   \n",
       "2304           0           1.0  61.260966  158.584715         Moonsilk   \n",
       "7541           0           0.0  52.258463  161.772535  Shoulder & Head   \n",
       "7660           0           0.0  45.914044  148.210249         Deadbuoy   \n",
       "48             0           0.0  50.739755  151.394437         Moonsilk   \n",
       "6501           0           0.0  46.153546  154.932552          Pantone   \n",
       "7096           0           0.0  44.964737  163.379161          Merpati   \n",
       "5382           0           0.0  61.460162  158.662128         Moonsilk   \n",
       "1803           0           0.0  47.853799  154.665995          Pantone   \n",
       "3187           0           0.0  43.182935  148.584670         Moonsilk   \n",
       "\n",
       "      is_merokok pendidikan  botak_prob  \n",
       "4959           0        SMP    0.420646  \n",
       "2304           0         S1    0.538522  \n",
       "7541           1         S3    0.402677  \n",
       "7660           1        SMA    0.728229  \n",
       "48             1         S1    0.263791  \n",
       "6501           1         S1    0.421174  \n",
       "7096           0         S1    0.639160  \n",
       "5382           1         S3    0.353719  \n",
       "1803           1         S1    0.550949  \n",
       "3187           0         S1    0.231343  "
      ]
     },
     "execution_count": 6,
     "metadata": {},
     "output_type": "execute_result"
    }
   ],
   "source": [
    "df.sample(10)"
   ]
  },
  {
   "cell_type": "markdown",
   "metadata": {
    "id": "Y1r-Zeo4Wcnd"
   },
   "source": [
    "Beberapa pengamatan:\n",
    "* Target kita, `botak_prob` benar bertipe float dengan *range* 0-1, dimana 1 melambangkan kemungkinan 100%"
   ]
  },
  {
   "cell_type": "markdown",
   "metadata": {
    "ExecuteTime": {
     "end_time": "2020-08-25T01:13:50.998861Z",
     "start_time": "2020-08-25T01:13:50.995862Z"
    },
    "id": "RigrAOnGWcnd"
   },
   "source": [
    "### Statistical summary dengan `df.describe()`\n",
    "Selanjutnya kita munculkan ringkasan statistik dataframe, baik untuk numerical dan categorical. Hal ini dilakukan untuk mengecek secara singkat akan keberadaan outlier dan karakteristik distribusi untuk `feature` numeric."
   ]
  },
  {
   "cell_type": "code",
   "execution_count": 9,
   "metadata": {
    "ExecuteTime": {
     "end_time": "2020-08-29T04:37:08.229068Z",
     "start_time": "2020-08-29T04:37:08.149086Z"
    },
    "colab": {
     "base_uri": "https://localhost:8080/",
     "height": 300
    },
    "id": "BzK64ajKWcnd",
    "outputId": "1102b688-4206-4f19-a35a-2657e13787e7"
   },
   "outputs": [
    {
     "data": {
      "text/html": [
       "<div>\n",
       "<style scoped>\n",
       "    .dataframe tbody tr th:only-of-type {\n",
       "        vertical-align: middle;\n",
       "    }\n",
       "\n",
       "    .dataframe tbody tr th {\n",
       "        vertical-align: top;\n",
       "    }\n",
       "\n",
       "    .dataframe thead th {\n",
       "        text-align: right;\n",
       "    }\n",
       "</style>\n",
       "<table border=\"1\" class=\"dataframe\">\n",
       "  <thead>\n",
       "    <tr style=\"text-align: right;\">\n",
       "      <th></th>\n",
       "      <th>umur</th>\n",
       "      <th>gaji</th>\n",
       "      <th>is_menikah</th>\n",
       "      <th>is_keturunan</th>\n",
       "      <th>berat</th>\n",
       "      <th>tinggi</th>\n",
       "      <th>is_merokok</th>\n",
       "      <th>botak_prob</th>\n",
       "    </tr>\n",
       "  </thead>\n",
       "  <tbody>\n",
       "    <tr>\n",
       "      <th>count</th>\n",
       "      <td>1000.000000</td>\n",
       "      <td>1.000000e+03</td>\n",
       "      <td>1000.000000</td>\n",
       "      <td>997.000000</td>\n",
       "      <td>1000.000000</td>\n",
       "      <td>1000.000000</td>\n",
       "      <td>1000.000000</td>\n",
       "      <td>1000.000000</td>\n",
       "    </tr>\n",
       "    <tr>\n",
       "      <th>mean</th>\n",
       "      <td>39.517000</td>\n",
       "      <td>9.338530e+06</td>\n",
       "      <td>0.035000</td>\n",
       "      <td>0.179539</td>\n",
       "      <td>55.960354</td>\n",
       "      <td>157.308522</td>\n",
       "      <td>0.485000</td>\n",
       "      <td>0.384868</td>\n",
       "    </tr>\n",
       "    <tr>\n",
       "      <th>std</th>\n",
       "      <td>10.031667</td>\n",
       "      <td>4.816192e+06</td>\n",
       "      <td>0.183872</td>\n",
       "      <td>0.383995</td>\n",
       "      <td>9.441493</td>\n",
       "      <td>6.550181</td>\n",
       "      <td>0.500025</td>\n",
       "      <td>0.193882</td>\n",
       "    </tr>\n",
       "    <tr>\n",
       "      <th>min</th>\n",
       "      <td>4.000000</td>\n",
       "      <td>1.990399e+06</td>\n",
       "      <td>0.000000</td>\n",
       "      <td>0.000000</td>\n",
       "      <td>41.754150</td>\n",
       "      <td>138.487317</td>\n",
       "      <td>0.000000</td>\n",
       "      <td>-0.115700</td>\n",
       "    </tr>\n",
       "    <tr>\n",
       "      <th>25%</th>\n",
       "      <td>33.000000</td>\n",
       "      <td>5.985189e+06</td>\n",
       "      <td>0.000000</td>\n",
       "      <td>0.000000</td>\n",
       "      <td>49.723461</td>\n",
       "      <td>152.782408</td>\n",
       "      <td>0.000000</td>\n",
       "      <td>0.241132</td>\n",
       "    </tr>\n",
       "    <tr>\n",
       "      <th>50%</th>\n",
       "      <td>39.000000</td>\n",
       "      <td>8.082501e+06</td>\n",
       "      <td>0.000000</td>\n",
       "      <td>0.000000</td>\n",
       "      <td>53.780701</td>\n",
       "      <td>156.979853</td>\n",
       "      <td>0.000000</td>\n",
       "      <td>0.365464</td>\n",
       "    </tr>\n",
       "    <tr>\n",
       "      <th>75%</th>\n",
       "      <td>46.000000</td>\n",
       "      <td>1.162239e+07</td>\n",
       "      <td>0.000000</td>\n",
       "      <td>0.000000</td>\n",
       "      <td>59.645683</td>\n",
       "      <td>161.242447</td>\n",
       "      <td>1.000000</td>\n",
       "      <td>0.508360</td>\n",
       "    </tr>\n",
       "    <tr>\n",
       "      <th>max</th>\n",
       "      <td>72.000000</td>\n",
       "      <td>3.713150e+07</td>\n",
       "      <td>1.000000</td>\n",
       "      <td>1.000000</td>\n",
       "      <td>128.643924</td>\n",
       "      <td>193.484937</td>\n",
       "      <td>1.000000</td>\n",
       "      <td>1.000000</td>\n",
       "    </tr>\n",
       "  </tbody>\n",
       "</table>\n",
       "</div>"
      ],
      "text/plain": [
       "              umur          gaji   is_menikah  is_keturunan        berat  \\\n",
       "count  1000.000000  1.000000e+03  1000.000000    997.000000  1000.000000   \n",
       "mean     39.517000  9.338530e+06     0.035000      0.179539    55.960354   \n",
       "std      10.031667  4.816192e+06     0.183872      0.383995     9.441493   \n",
       "min       4.000000  1.990399e+06     0.000000      0.000000    41.754150   \n",
       "25%      33.000000  5.985189e+06     0.000000      0.000000    49.723461   \n",
       "50%      39.000000  8.082501e+06     0.000000      0.000000    53.780701   \n",
       "75%      46.000000  1.162239e+07     0.000000      0.000000    59.645683   \n",
       "max      72.000000  3.713150e+07     1.000000      1.000000   128.643924   \n",
       "\n",
       "            tinggi   is_merokok   botak_prob  \n",
       "count  1000.000000  1000.000000  1000.000000  \n",
       "mean    157.308522     0.485000     0.384868  \n",
       "std       6.550181     0.500025     0.193882  \n",
       "min     138.487317     0.000000    -0.115700  \n",
       "25%     152.782408     0.000000     0.241132  \n",
       "50%     156.979853     0.000000     0.365464  \n",
       "75%     161.242447     1.000000     0.508360  \n",
       "max     193.484937     1.000000     1.000000  "
      ]
     },
     "execution_count": 9,
     "metadata": {},
     "output_type": "execute_result"
    }
   ],
   "source": [
    "df[nums].describe()"
   ]
  },
  {
   "cell_type": "markdown",
   "metadata": {
    "id": "4SceQdfMWcnd"
   },
   "source": [
    "Beberapa pengamatan dari *statistical summary* kolom numerik di atas:\n",
    "* Distribusi nilai di kolom `umur` dan `gaji` terlihat normal (*mean* dan *median* cukup dekat, dan nilai Q2 kira2 tepat di tengah2 Q1 - Q3)\n",
    "* Ada baris yang memiliki probability `botak_prob` minus. Baris ini harus **dihilangkan** di tahap pre-processing nanti"
   ]
  },
  {
   "cell_type": "code",
   "execution_count": 10,
   "metadata": {
    "colab": {
     "base_uri": "https://localhost:8080/"
    },
    "id": "IgfogYgjZSCa",
    "outputId": "e61712b1-85ce-4c5d-fbdf-d21b6710653c"
   },
   "outputs": [
    {
     "data": {
      "text/plain": [
       "(7, 13)"
      ]
     },
     "execution_count": 10,
     "metadata": {},
     "output_type": "execute_result"
    }
   ],
   "source": [
    "df[df['botak_prob']<0].shape"
   ]
  },
  {
   "cell_type": "code",
   "execution_count": 11,
   "metadata": {
    "ExecuteTime": {
     "end_time": "2020-08-29T00:32:07.456785Z",
     "start_time": "2020-08-29T00:32:07.423804Z"
    },
    "colab": {
     "base_uri": "https://localhost:8080/",
     "height": 175
    },
    "id": "01tAVWj5Wcnd",
    "outputId": "d33a9cfc-e5cd-44d0-c5d3-e1e19ab9d430",
    "scrolled": false
   },
   "outputs": [
    {
     "data": {
      "text/html": [
       "<div>\n",
       "<style scoped>\n",
       "    .dataframe tbody tr th:only-of-type {\n",
       "        vertical-align: middle;\n",
       "    }\n",
       "\n",
       "    .dataframe tbody tr th {\n",
       "        vertical-align: top;\n",
       "    }\n",
       "\n",
       "    .dataframe thead th {\n",
       "        text-align: right;\n",
       "    }\n",
       "</style>\n",
       "<table border=\"1\" class=\"dataframe\">\n",
       "  <thead>\n",
       "    <tr style=\"text-align: right;\">\n",
       "      <th></th>\n",
       "      <th>jenis_kelamin</th>\n",
       "      <th>pekerjaan</th>\n",
       "      <th>sampo</th>\n",
       "      <th>pendidikan</th>\n",
       "      <th>provinsi</th>\n",
       "    </tr>\n",
       "  </thead>\n",
       "  <tbody>\n",
       "    <tr>\n",
       "      <th>count</th>\n",
       "      <td>1000</td>\n",
       "      <td>986</td>\n",
       "      <td>1000</td>\n",
       "      <td>1000</td>\n",
       "      <td>1000</td>\n",
       "    </tr>\n",
       "    <tr>\n",
       "      <th>unique</th>\n",
       "      <td>2</td>\n",
       "      <td>4</td>\n",
       "      <td>5</td>\n",
       "      <td>6</td>\n",
       "      <td>34</td>\n",
       "    </tr>\n",
       "    <tr>\n",
       "      <th>top</th>\n",
       "      <td>Laki-laki</td>\n",
       "      <td>Pegawai swasta</td>\n",
       "      <td>Merpati</td>\n",
       "      <td>S1</td>\n",
       "      <td>Mataram</td>\n",
       "    </tr>\n",
       "    <tr>\n",
       "      <th>freq</th>\n",
       "      <td>654</td>\n",
       "      <td>403</td>\n",
       "      <td>225</td>\n",
       "      <td>565</td>\n",
       "      <td>44</td>\n",
       "    </tr>\n",
       "  </tbody>\n",
       "</table>\n",
       "</div>"
      ],
      "text/plain": [
       "       jenis_kelamin       pekerjaan    sampo pendidikan provinsi\n",
       "count           1000             986     1000       1000     1000\n",
       "unique             2               4        5          6       34\n",
       "top        Laki-laki  Pegawai swasta  Merpati         S1  Mataram\n",
       "freq             654             403      225        565       44"
      ]
     },
     "execution_count": 11,
     "metadata": {},
     "output_type": "execute_result"
    }
   ],
   "source": [
    "df[cats].describe()"
   ]
  },
  {
   "cell_type": "markdown",
   "metadata": {
    "id": "F4bMXuioWcnd"
   },
   "source": [
    "Beberapa pengamatan dari *statistical summary* kolom kategorikal di atas:\n",
    "* Mayoritas data adalah Laki-laki (Top kolom `jenis_kelamin` adalah `Laki-laki` dengan frekuensi 655)\n",
    "* Kolom `provinsi` memiliki jumlah nilai unik yang banyak;ada **kemungkinan tidak terlalu berguna** untuk klasifikasi\n",
    "* Sebaran nilai di kolom `jenis_kelamin`, `provinsi` dan `sampo` terlihat merata, sedangkan `pekerjaan` dan `pendidikan` terlihat didominasi nilai tertentu"
   ]
  },
  {
   "cell_type": "markdown",
   "metadata": {
    "id": "3859NJJfWcnd"
   },
   "source": [
    "### Value Counting\n",
    "Kita dapat memastikan pengamatan mengenai kolom-kolom *categorical* di atas dengan value counting"
   ]
  },
  {
   "cell_type": "code",
   "execution_count": 17,
   "metadata": {
    "ExecuteTime": {
     "end_time": "2020-08-29T04:41:10.203681Z",
     "start_time": "2020-08-29T04:41:10.180698Z"
    },
    "colab": {
     "base_uri": "https://localhost:8080/"
    },
    "id": "hHAQVv_kWcnd",
    "outputId": "de13f5df-c5ab-4601-d029-b01d5c6c9466"
   },
   "outputs": [
    {
     "name": "stdout",
     "output_type": "stream",
     "text": [
      "Value count kolom jenis_kelamin:\n",
      "Laki-laki    654\n",
      "Perempuan    346\n",
      "Name: jenis_kelamin, dtype: int64\n",
      "\n",
      "Value count kolom pekerjaan:\n",
      "Pegawai swasta    403\n",
      "PNS               389\n",
      "Freelance         159\n",
      "Pengangguran       35\n",
      "Name: pekerjaan, dtype: int64\n",
      "\n",
      "Value count kolom sampo:\n",
      "Merpati            225\n",
      "Pantone            210\n",
      "Moonsilk           198\n",
      "Deadbuoy           189\n",
      "Shoulder & Head    178\n",
      "Name: sampo, dtype: int64\n",
      "\n",
      "Value count kolom pendidikan:\n",
      "S1     565\n",
      "SMA    248\n",
      "S2      76\n",
      "SMP     71\n",
      "SD      24\n",
      "S3      16\n",
      "Name: pendidikan, dtype: int64\n",
      "\n",
      "Value count kolom provinsi:\n",
      "Mataram           44\n",
      "Manokwari         42\n",
      "Semarang          42\n",
      "Tanjungselor      39\n",
      "Jambi             36\n",
      "Pekanbaru         35\n",
      "Medan             34\n",
      "Manado            34\n",
      "Ambon             32\n",
      "Mamuju            32\n",
      "Palangkaraya      31\n",
      "Jakarta           30\n",
      "Gorontalo         30\n",
      "Banjarmasin       30\n",
      "Sofifi            29\n",
      "Padang            28\n",
      "Banda Lampung     28\n",
      "Kupang            28\n",
      "Serang            28\n",
      "Banda Aceh        28\n",
      "Samarinda         27\n",
      "Palu              26\n",
      "Yogyakarta        26\n",
      "Kendari           26\n",
      "Pangkalpinang     25\n",
      "Bengkulu          25\n",
      "Denpasar          25\n",
      "Palembang         24\n",
      "Jayapura          24\n",
      "Pontianak         24\n",
      "Bandung           24\n",
      "Surabaya          24\n",
      "Makassar          21\n",
      "Tanjung Pinang    19\n",
      "Name: provinsi, dtype: int64\n",
      "\n"
     ]
    }
   ],
   "source": [
    "for col in cats:\n",
    "    print(f\"Value count kolom {col}:\")\n",
    "    print(df[col].value_counts())\n",
    "    print()"
   ]
  },
  {
   "cell_type": "markdown",
   "metadata": {
    "id": "pEyIqfBrWcnd"
   },
   "source": [
    "Seperti yang bisa dilihat, pengamatan kita dari `df.describe()` tadi terbukti benar."
   ]
  },
  {
   "cell_type": "markdown",
   "metadata": {
    "id": "Juio7NVFWcnd"
   },
   "source": [
    "## Univariate Analysis\n",
    "Setelah melakukan analisis sederhana tentang statistik deskriptif, sekarang kita fokus pada satu-persatu kolom dengan *Univariate Analysis*"
   ]
  },
  {
   "cell_type": "markdown",
   "metadata": {
    "id": "OQA6nvPjWcnd"
   },
   "source": [
    "### Box plots"
   ]
  },
  {
   "cell_type": "code",
   "execution_count": 15,
   "metadata": {
    "ExecuteTime": {
     "end_time": "2020-08-29T04:42:08.001602Z",
     "start_time": "2020-08-29T04:42:06.531448Z"
    },
    "colab": {
     "base_uri": "https://localhost:8080/",
     "height": 297
    },
    "id": "AHFiQSI4Wcnd",
    "outputId": "d5d5759f-7a05-4efb-f720-b09c1b5a0704",
    "scrolled": true
   },
   "outputs": [
    {
     "data": {
      "image/png": "[encoded data removed]",
      "text/plain": [
       "<Figure size 864x288 with 8 Axes>"
      ]
     },
     "metadata": {
      "needs_background": "light"
     },
     "output_type": "display_data"
    }
   ],
   "source": [
    "for i in range(0, len(nums)):\n",
    "    plt.subplot(1, len(nums), i+1)\n",
    "    sns.boxplot(y=df[nums[i]], color='gray', orient='v')\n",
    "    plt.tight_layout()"
   ]
  },
  {
   "cell_type": "markdown",
   "metadata": {
    "id": "eM7NVf00Wcnd"
   },
   "source": [
    "Untuk boxplot, hal paling penting yang harus kita perhatikan adalah keberadaan outlier.\n",
    "* Outlier terlihat utamanya pada kolom `gaji` dan `berat`\n",
    "* Dari boxplotnya terlihat mana distribusi yang terlihat agak *skewed*: `gaji`, `berat`, `tinggi`"
   ]
  },
  {
   "cell_type": "markdown",
   "metadata": {
    "ExecuteTime": {
     "end_time": "2020-08-25T01:31:54.648374Z",
     "start_time": "2020-08-25T01:31:54.645375Z"
    },
    "id": "wIJ4xk-sWcnd"
   },
   "source": [
    "### Dist plots"
   ]
  },
  {
   "cell_type": "code",
   "execution_count": 21,
   "metadata": {
    "ExecuteTime": {
     "end_time": "2020-08-29T04:46:20.960234Z",
     "start_time": "2020-08-29T04:46:18.699139Z"
    },
    "colab": {
     "base_uri": "https://localhost:8080/",
     "height": 667
    },
    "id": "vTq7jD88Wcnd",
    "outputId": "a1bd9c8f-c9c3-4323-fd68-736e9bb0e31b"
   },
   "outputs": [
    {
     "name": "stderr",
     "output_type": "stream",
     "text": [
      "C:\\Users\\ASUS\\AppData\\Local\\Temp/ipykernel_7052/2389822063.py:3: MatplotlibDeprecationWarning: Passing non-integers as three-element position specification is deprecated since 3.3 and will be removed two minor releases later.\n",
      "  plt.subplot(2, len(nums)/2, i+1)\n",
      "c:\\users\\asus\\appdata\\local\\programs\\python\\python39\\lib\\site-packages\\seaborn\\distributions.py:2619: FutureWarning: `distplot` is a deprecated function and will be removed in a future version. Please adapt your code to use either `displot` (a figure-level function with similar flexibility) or `histplot` (an axes-level function for histograms).\n",
      "  warnings.warn(msg, FutureWarning)\n",
      "C:\\Users\\ASUS\\AppData\\Local\\Temp/ipykernel_7052/2389822063.py:3: MatplotlibDeprecationWarning: Passing non-integers as three-element position specification is deprecated since 3.3 and will be removed two minor releases later.\n",
      "  plt.subplot(2, len(nums)/2, i+1)\n",
      "c:\\users\\asus\\appdata\\local\\programs\\python\\python39\\lib\\site-packages\\seaborn\\distributions.py:2619: FutureWarning: `distplot` is a deprecated function and will be removed in a future version. Please adapt your code to use either `displot` (a figure-level function with similar flexibility) or `histplot` (an axes-level function for histograms).\n",
      "  warnings.warn(msg, FutureWarning)\n",
      "C:\\Users\\ASUS\\AppData\\Local\\Temp/ipykernel_7052/2389822063.py:3: MatplotlibDeprecationWarning: Passing non-integers as three-element position specification is deprecated since 3.3 and will be removed two minor releases later.\n",
      "  plt.subplot(2, len(nums)/2, i+1)\n",
      "c:\\users\\asus\\appdata\\local\\programs\\python\\python39\\lib\\site-packages\\seaborn\\distributions.py:2619: FutureWarning: `distplot` is a deprecated function and will be removed in a future version. Please adapt your code to use either `displot` (a figure-level function with similar flexibility) or `histplot` (an axes-level function for histograms).\n",
      "  warnings.warn(msg, FutureWarning)\n",
      "C:\\Users\\ASUS\\AppData\\Local\\Temp/ipykernel_7052/2389822063.py:3: MatplotlibDeprecationWarning: Passing non-integers as three-element position specification is deprecated since 3.3 and will be removed two minor releases later.\n",
      "  plt.subplot(2, len(nums)/2, i+1)\n",
      "c:\\users\\asus\\appdata\\local\\programs\\python\\python39\\lib\\site-packages\\seaborn\\distributions.py:2619: FutureWarning: `distplot` is a deprecated function and will be removed in a future version. Please adapt your code to use either `displot` (a figure-level function with similar flexibility) or `histplot` (an axes-level function for histograms).\n",
      "  warnings.warn(msg, FutureWarning)\n",
      "C:\\Users\\ASUS\\AppData\\Local\\Temp/ipykernel_7052/2389822063.py:3: MatplotlibDeprecationWarning: Passing non-integers as three-element position specification is deprecated since 3.3 and will be removed two minor releases later.\n",
      "  plt.subplot(2, len(nums)/2, i+1)\n",
      "c:\\users\\asus\\appdata\\local\\programs\\python\\python39\\lib\\site-packages\\seaborn\\distributions.py:2619: FutureWarning: `distplot` is a deprecated function and will be removed in a future version. Please adapt your code to use either `displot` (a figure-level function with similar flexibility) or `histplot` (an axes-level function for histograms).\n",
      "  warnings.warn(msg, FutureWarning)\n",
      "C:\\Users\\ASUS\\AppData\\Local\\Temp/ipykernel_7052/2389822063.py:3: MatplotlibDeprecationWarning: Passing non-integers as three-element position specification is deprecated since 3.3 and will be removed two minor releases later.\n",
      "  plt.subplot(2, len(nums)/2, i+1)\n",
      "c:\\users\\asus\\appdata\\local\\programs\\python\\python39\\lib\\site-packages\\seaborn\\distributions.py:2619: FutureWarning: `distplot` is a deprecated function and will be removed in a future version. Please adapt your code to use either `displot` (a figure-level function with similar flexibility) or `histplot` (an axes-level function for histograms).\n",
      "  warnings.warn(msg, FutureWarning)\n",
      "C:\\Users\\ASUS\\AppData\\Local\\Temp/ipykernel_7052/2389822063.py:3: MatplotlibDeprecationWarning: Passing non-integers as three-element position specification is deprecated since 3.3 and will be removed two minor releases later.\n",
      "  plt.subplot(2, len(nums)/2, i+1)\n",
      "c:\\users\\asus\\appdata\\local\\programs\\python\\python39\\lib\\site-packages\\seaborn\\distributions.py:2619: FutureWarning: `distplot` is a deprecated function and will be removed in a future version. Please adapt your code to use either `displot` (a figure-level function with similar flexibility) or `histplot` (an axes-level function for histograms).\n",
      "  warnings.warn(msg, FutureWarning)\n",
      "C:\\Users\\ASUS\\AppData\\Local\\Temp/ipykernel_7052/2389822063.py:3: MatplotlibDeprecationWarning: Passing non-integers as three-element position specification is deprecated since 3.3 and will be removed two minor releases later.\n",
      "  plt.subplot(2, len(nums)/2, i+1)\n",
      "c:\\users\\asus\\appdata\\local\\programs\\python\\python39\\lib\\site-packages\\seaborn\\distributions.py:2619: FutureWarning: `distplot` is a deprecated function and will be removed in a future version. Please adapt your code to use either `displot` (a figure-level function with similar flexibility) or `histplot` (an axes-level function for histograms).\n",
      "  warnings.warn(msg, FutureWarning)\n"
     ]
    },
    {
     "data": {
      "image/png": "[encoded data removed]",
      "text/plain": [
       "<Figure size 864x360 with 8 Axes>"
      ]
     },
     "metadata": {
      "needs_background": "light"
     },
     "output_type": "display_data"
    }
   ],
   "source": [
    "plt.figure(figsize=(12, 5))\n",
    "for i in range(0, len(nums)):\n",
    "    plt.subplot(2, len(nums)/2, i+1)\n",
    "    sns.distplot(df[nums[i]], color='gray')\n",
    "    plt.tight_layout()"
   ]
  },
  {
   "cell_type": "markdown",
   "metadata": {
    "id": "YNv0HtEZWcnd"
   },
   "source": [
    "Untuk distribution plot, hal utama yang perlu diperhatikan adalah bentuk distribusi:\n",
    "* Seperti dugaan kita ketika melihat boxplot di atas, kolom `gaji`, `berat`, dan `tinggi` sedikit *skewed*\n",
    "* Berarti ada kemungkinan kita perlu melakukan sesuatu pada kolom2 tersebut nantinya\n",
    "* Selain kolom2 itu distribusinya terlihat normal-normal saja"
   ]
  },
  {
   "cell_type": "markdown",
   "metadata": {
    "id": "CyWdEfDKWcnd"
   },
   "source": [
    "### Count plot (categorical)"
   ]
  },
  {
   "cell_type": "code",
   "execution_count": 22,
   "metadata": {
    "ExecuteTime": {
     "end_time": "2020-08-29T00:32:14.834179Z",
     "start_time": "2020-08-29T00:32:13.916291Z"
    },
    "colab": {
     "base_uri": "https://localhost:8080/",
     "height": 487
    },
    "id": "SACYYuBKWcnd",
    "outputId": "2011ab1e-30d5-4bcd-9fb1-cc49d21796b8",
    "scrolled": true
   },
   "outputs": [
    {
     "name": "stderr",
     "output_type": "stream",
     "text": [
      "c:\\users\\asus\\appdata\\local\\programs\\python\\python39\\lib\\site-packages\\seaborn\\_decorators.py:36: FutureWarning: Pass the following variable as a keyword arg: x. From version 0.12, the only valid positional argument will be `data`, and passing other arguments without an explicit keyword will result in an error or misinterpretation.\n",
      "  warnings.warn(\n",
      "c:\\users\\asus\\appdata\\local\\programs\\python\\python39\\lib\\site-packages\\seaborn\\_decorators.py:36: FutureWarning: Pass the following variable as a keyword arg: x. From version 0.12, the only valid positional argument will be `data`, and passing other arguments without an explicit keyword will result in an error or misinterpretation.\n",
      "  warnings.warn(\n",
      "c:\\users\\asus\\appdata\\local\\programs\\python\\python39\\lib\\site-packages\\seaborn\\_decorators.py:36: FutureWarning: Pass the following variable as a keyword arg: x. From version 0.12, the only valid positional argument will be `data`, and passing other arguments without an explicit keyword will result in an error or misinterpretation.\n",
      "  warnings.warn(\n",
      "c:\\users\\asus\\appdata\\local\\programs\\python\\python39\\lib\\site-packages\\seaborn\\_decorators.py:36: FutureWarning: Pass the following variable as a keyword arg: x. From version 0.12, the only valid positional argument will be `data`, and passing other arguments without an explicit keyword will result in an error or misinterpretation.\n",
      "  warnings.warn(\n",
      "c:\\users\\asus\\appdata\\local\\programs\\python\\python39\\lib\\site-packages\\seaborn\\_decorators.py:36: FutureWarning: Pass the following variable as a keyword arg: x. From version 0.12, the only valid positional argument will be `data`, and passing other arguments without an explicit keyword will result in an error or misinterpretation.\n",
      "  warnings.warn(\n"
     ]
    },
    {
     "data": {
      "image/png": "[encoded data removed]",
      "text/plain": [
       "<Figure size 864x288 with 5 Axes>"
      ]
     },
     "metadata": {
      "needs_background": "light"
     },
     "output_type": "display_data"
    }
   ],
   "source": [
    "for i in range(0, len(cats)):\n",
    "    plt.subplot(2, 3, i+1)\n",
    "    sns.countplot(df[cats[i]], color='gray', orient='v')\n",
    "    plt.tight_layout()"
   ]
  },
  {
   "cell_type": "markdown",
   "metadata": {
    "id": "3iqVbOyFWcnd"
   },
   "source": [
    "Terakhir kita lihat count plot untuk setiap data. Seperti pengamatan kita sebelumnya, distribusi `pendidikan` dan `pekerjaan` didominasi 1-2 value.\n"
   ]
  },
  {
   "cell_type": "markdown",
   "metadata": {
    "id": "na6hG7iJWcne"
   },
   "source": [
    "## Bivariate Analysis"
   ]
  },
  {
   "cell_type": "markdown",
   "metadata": {
    "id": "xR7Sg6NgWcne"
   },
   "source": [
    "Setelah menilik setiap kolom secara individual, sekarang kita akan melihat hubungan antar kolom. Mengetahui hubungan antar kolom dapat membantu kita memilih fitur-fitur yang paling penting dan mengesampingkan *feature* yang redundan."
   ]
  },
  {
   "cell_type": "markdown",
   "metadata": {
    "id": "qa7EPitBWcne"
   },
   "source": [
    "### Correlation heatmap"
   ]
  },
  {
   "cell_type": "code",
   "execution_count": null,
   "metadata": {
    "colab": {
     "base_uri": "https://localhost:8080/",
     "height": 300
    },
    "id": "zIpuU5e8ASVT",
    "outputId": "a70527fe-a034-4c90-b12e-3806402d9a79"
   },
   "outputs": [
    {
     "data": {
      "text/html": [
       "<div>\n",
       "<style scoped>\n",
       "    .dataframe tbody tr th:only-of-type {\n",
       "        vertical-align: middle;\n",
       "    }\n",
       "\n",
       "    .dataframe tbody tr th {\n",
       "        vertical-align: top;\n",
       "    }\n",
       "\n",
       "    .dataframe thead th {\n",
       "        text-align: right;\n",
       "    }\n",
       "</style>\n",
       "<table border=\"1\" class=\"dataframe\">\n",
       "  <thead>\n",
       "    <tr style=\"text-align: right;\">\n",
       "      <th></th>\n",
       "      <th>umur</th>\n",
       "      <th>gaji</th>\n",
       "      <th>is_menikah</th>\n",
       "      <th>is_keturunan</th>\n",
       "      <th>berat</th>\n",
       "      <th>tinggi</th>\n",
       "      <th>is_merokok</th>\n",
       "      <th>botak_prob</th>\n",
       "    </tr>\n",
       "  </thead>\n",
       "  <tbody>\n",
       "    <tr>\n",
       "      <th>umur</th>\n",
       "      <td>1.000000</td>\n",
       "      <td>-0.051310</td>\n",
       "      <td>0.436266</td>\n",
       "      <td>0.000896</td>\n",
       "      <td>-0.015623</td>\n",
       "      <td>0.030225</td>\n",
       "      <td>0.024397</td>\n",
       "      <td>0.339214</td>\n",
       "    </tr>\n",
       "    <tr>\n",
       "      <th>gaji</th>\n",
       "      <td>-0.051310</td>\n",
       "      <td>1.000000</td>\n",
       "      <td>-0.030682</td>\n",
       "      <td>0.027093</td>\n",
       "      <td>0.002633</td>\n",
       "      <td>-0.002288</td>\n",
       "      <td>0.034678</td>\n",
       "      <td>0.070522</td>\n",
       "    </tr>\n",
       "    <tr>\n",
       "      <th>is_menikah</th>\n",
       "      <td>0.436266</td>\n",
       "      <td>-0.030682</td>\n",
       "      <td>1.000000</td>\n",
       "      <td>0.038568</td>\n",
       "      <td>0.039649</td>\n",
       "      <td>0.083794</td>\n",
       "      <td>0.011160</td>\n",
       "      <td>0.239355</td>\n",
       "    </tr>\n",
       "    <tr>\n",
       "      <th>is_keturunan</th>\n",
       "      <td>0.000896</td>\n",
       "      <td>0.027093</td>\n",
       "      <td>0.038568</td>\n",
       "      <td>1.000000</td>\n",
       "      <td>0.063689</td>\n",
       "      <td>0.020268</td>\n",
       "      <td>0.025744</td>\n",
       "      <td>0.622825</td>\n",
       "    </tr>\n",
       "    <tr>\n",
       "      <th>berat</th>\n",
       "      <td>-0.015623</td>\n",
       "      <td>0.002633</td>\n",
       "      <td>0.039649</td>\n",
       "      <td>0.063689</td>\n",
       "      <td>1.000000</td>\n",
       "      <td>0.640597</td>\n",
       "      <td>0.056122</td>\n",
       "      <td>0.030708</td>\n",
       "    </tr>\n",
       "    <tr>\n",
       "      <th>tinggi</th>\n",
       "      <td>0.030225</td>\n",
       "      <td>-0.002288</td>\n",
       "      <td>0.083794</td>\n",
       "      <td>0.020268</td>\n",
       "      <td>0.640597</td>\n",
       "      <td>1.000000</td>\n",
       "      <td>0.006473</td>\n",
       "      <td>0.036609</td>\n",
       "    </tr>\n",
       "    <tr>\n",
       "      <th>is_merokok</th>\n",
       "      <td>0.024397</td>\n",
       "      <td>0.034678</td>\n",
       "      <td>0.011160</td>\n",
       "      <td>0.025744</td>\n",
       "      <td>0.056122</td>\n",
       "      <td>0.006473</td>\n",
       "      <td>1.000000</td>\n",
       "      <td>0.306522</td>\n",
       "    </tr>\n",
       "    <tr>\n",
       "      <th>botak_prob</th>\n",
       "      <td>0.339214</td>\n",
       "      <td>0.070522</td>\n",
       "      <td>0.239355</td>\n",
       "      <td>0.622825</td>\n",
       "      <td>0.030708</td>\n",
       "      <td>0.036609</td>\n",
       "      <td>0.306522</td>\n",
       "      <td>1.000000</td>\n",
       "    </tr>\n",
       "  </tbody>\n",
       "</table>\n",
       "</div>"
      ],
      "text/plain": [
       "                  umur      gaji  is_menikah  ...    tinggi  is_merokok  botak_prob\n",
       "umur          1.000000 -0.051310    0.436266  ...  0.030225    0.024397    0.339214\n",
       "gaji         -0.051310  1.000000   -0.030682  ... -0.002288    0.034678    0.070522\n",
       "is_menikah    0.436266 -0.030682    1.000000  ...  0.083794    0.011160    0.239355\n",
       "is_keturunan  0.000896  0.027093    0.038568  ...  0.020268    0.025744    0.622825\n",
       "berat        -0.015623  0.002633    0.039649  ...  0.640597    0.056122    0.030708\n",
       "tinggi        0.030225 -0.002288    0.083794  ...  1.000000    0.006473    0.036609\n",
       "is_merokok    0.024397  0.034678    0.011160  ...  0.006473    1.000000    0.306522\n",
       "botak_prob    0.339214  0.070522    0.239355  ...  0.036609    0.306522    1.000000\n",
       "\n",
       "[8 rows x 8 columns]"
      ]
     },
     "execution_count": 24,
     "metadata": {},
     "output_type": "execute_result"
    }
   ],
   "source": [
    "df.corr()"
   ]
  },
  {
   "cell_type": "code",
   "execution_count": null,
   "metadata": {
    "ExecuteTime": {
     "end_time": "2020-08-29T00:32:15.304922Z",
     "start_time": "2020-08-29T00:32:14.836179Z"
    },
    "colab": {
     "base_uri": "https://localhost:8080/",
     "height": 589
    },
    "id": "Q1KXwJlPWcne",
    "outputId": "384c329c-782b-48a7-d651-9d09ad2b4929"
   },
   "outputs": [
    {
     "data": {
      "text/plain": [
       "<matplotlib.axes._subplots.AxesSubplot at 0x7fc1aa65f290>"
      ]
     },
     "execution_count": 25,
     "metadata": {},
     "output_type": "execute_result"
    },
    {
     "data": {
      "image/png": "[encoded data removed]",
      "text/plain": [
       "<Figure size 576x576 with 2 Axes>"
      ]
     },
     "metadata": {
      "needs_background": "light"
     },
     "output_type": "display_data"
    }
   ],
   "source": [
    "plt.figure(figsize=(8, 8))\n",
    "sns.heatmap(df.corr(), cmap='Blues', annot=True, fmt='.2f')"
   ]
  },
  {
   "cell_type": "markdown",
   "metadata": {
    "id": "5IV0XEBRWcne"
   },
   "source": [
    "Dari *correlation heatmap* di atas dapat dilihat bahwa:\n",
    "* Target kita `botak_prob` memiliki korelasi positif lemah dengan `umur`, `is_menikah`, dan `is_merokok`\n",
    "* Ia juga memiliki korelasi positif kuat dengan `is_keturunan`\n",
    "* `tinggi` juga memiliki korelasi positif kuat dengan `berat`. Ada kemungkinan kedua *feature* ini redundan\n",
    "* `is_menikah` memiliki korelasi dengan `umur`, namun korelasi ini lemah"
   ]
  },
  {
   "cell_type": "markdown",
   "metadata": {
    "id": "zGfqMhp0Wcne"
   },
   "source": [
    "## EDA Conclusion\n",
    "Beberapa hal yang kita temukan dari EDA dataset ini adalah:\n",
    "* Data terlihat valid dan tidak ada kecacatan yang major\n",
    "* Namun masih ada data-data yang kosong/hilang, harus diurus ketika preprocessing\n",
    "* Ada beberapa distribusi yang sedikit *skewed*, hal ini harus diingat apabila kita ingin melakukan sesuatu atau menggunakan model yang memerlukan asumsi distribusi normal\n",
    "* Beberapa *feature* memiliki korelasi yang jelas dengan *target*, mereka akan dipakai\n",
    "* Beberapa *feature* terlihat sama sekali tidak berkorelasi, mereka sebaiknya diabaikan\n",
    "* Dari Heatmap: ada feature yang korelasinya tinggi satu sama lain (berat/tinggi) mungkin cuma akan dipakai satu"
   ]
  }
 ],
 "metadata": {
  "colab": {
   "collapsed_sections": [],
   "name": "Exploratory Data Analysis Hands On.ipynb",
   "provenance": []
  },
  "kernelspec": {
   "display_name": "Python 3 (ipykernel)",
   "language": "python",
   "name": "python3"
  },
  "language_info": {
   "codemirror_mode": {
    "name": "ipython",
    "version": 3
   },
   "file_extension": ".py",
   "mimetype": "text/x-python",
   "name": "python",
   "nbconvert_exporter": "python",
   "pygments_lexer": "ipython3",
   "version": "3.9.6"
  }
 },
 "nbformat": 4,
 "nbformat_minor": 1
}
