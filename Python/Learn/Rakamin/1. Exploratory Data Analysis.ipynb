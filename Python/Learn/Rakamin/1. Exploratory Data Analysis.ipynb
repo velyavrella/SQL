{
 "cells": [
  {
   "cell_type": "markdown",
   "id": "aedba8ff",
   "metadata": {},
   "source": [
    "## Import Modules"
   ]
  },
  {
   "cell_type": "code",
   "execution_count": 2,
   "id": "cbf96dae",
   "metadata": {},
   "outputs": [],
   "source": [
    "import numpy as np\n",
    "import pandas as pd\n",
    "import matplotlib.pyplot as plt\n",
    "import seaborn as sns"
   ]
  },
  {
   "cell_type": "markdown",
   "id": "6d20d404",
   "metadata": {},
   "source": [
    "## Mengubah parameter default matplotlib\n",
    "Parameter default matplotlib dapat diubah dengan rcParams sebagai berikut"
   ]
  },
  {
   "cell_type": "code",
   "execution_count": 4,
   "id": "ee5a6096",
   "metadata": {},
   "outputs": [],
   "source": [
    "from matplotlib import rcParams\n",
    "rcParams['figure.figsize'] = (10,7)\n",
    "rcParams['lines.linewidth'] = 2.5\n",
    "rcParams['xtick.labelsize'] = 'x-large'\n",
    "rcParams['ytick.labelsize'] = 'x-large'"
   ]
  },
  {
   "cell_type": "markdown",
   "id": "8186a1a0",
   "metadata": {},
   "source": [
    "### Input Data"
   ]
  },
  {
   "cell_type": "code",
   "execution_count": 5,
   "id": "2d105b46",
   "metadata": {},
   "outputs": [],
   "source": [
    "df = pd.read_csv('train.csv')"
   ]
  },
  {
   "cell_type": "code",
   "execution_count": 6,
   "id": "09126d81",
   "metadata": {},
   "outputs": [
    {
     "name": "stdout",
     "output_type": "stream",
     "text": [
      "<class 'pandas.core.frame.DataFrame'>\n",
      "RangeIndex: 891 entries, 0 to 890\n",
      "Data columns (total 12 columns):\n",
      " #   Column       Non-Null Count  Dtype  \n",
      "---  ------       --------------  -----  \n",
      " 0   PassengerId  891 non-null    int64  \n",
      " 1   Survived     891 non-null    int64  \n",
      " 2   Pclass       891 non-null    int64  \n",
      " 3   Name         891 non-null    object \n",
      " 4   Sex          891 non-null    object \n",
      " 5   Age          714 non-null    float64\n",
      " 6   SibSp        891 non-null    int64  \n",
      " 7   Parch        891 non-null    int64  \n",
      " 8   Ticket       891 non-null    object \n",
      " 9   Fare         891 non-null    float64\n",
      " 10  Cabin        204 non-null    object \n",
      " 11  Embarked     889 non-null    object \n",
      "dtypes: float64(2), int64(5), object(5)\n",
      "memory usage: 83.7+ KB\n"
     ]
    }
   ],
   "source": [
    "df.info()"
   ]
  },
  {
   "cell_type": "markdown",
   "id": "b6722986",
   "metadata": {},
   "source": [
    "Yang perlu untuk diperhatikan\n",
    "1. **Apakah ada data dengan tipe yang kurang sesuai?** Misal: name dengan tipe int64\n",
    "2. **Apakah ada data yang hilang?** Cari kolom dengan count < jumlah baris"
   ]
  },
  {
   "cell_type": "markdown",
   "id": "00dbd3dd",
   "metadata": {},
   "source": [
    "#### Pick Separate Columns\n",
    "melakukan pemisahan kolom yang ingin dianalisis berdasarkan type datanya."
   ]
  },
  {
   "cell_type": "code",
   "execution_count": 7,
   "id": "30db6d10",
   "metadata": {},
   "outputs": [],
   "source": [
    "numericals = ['Survived','Pclass','Age','SibSp','Parch','Fare']\n",
    "categoricals = ['Sex','Embarked']"
   ]
  },
  {
   "cell_type": "markdown",
   "id": "7787647f",
   "metadata": {},
   "source": [
    "#### Sample"
   ]
  },
  {
   "cell_type": "code",
   "execution_count": 8,
   "id": "c245548d",
   "metadata": {},
   "outputs": [
    {
     "data": {
      "text/html": [
       "<div>\n",
       "<style scoped>\n",
       "    .dataframe tbody tr th:only-of-type {\n",
       "        vertical-align: middle;\n",
       "    }\n",
       "\n",
       "    .dataframe tbody tr th {\n",
       "        vertical-align: top;\n",
       "    }\n",
       "\n",
       "    .dataframe thead th {\n",
       "        text-align: right;\n",
       "    }\n",
       "</style>\n",
       "<table border=\"1\" class=\"dataframe\">\n",
       "  <thead>\n",
       "    <tr style=\"text-align: right;\">\n",
       "      <th></th>\n",
       "      <th>PassengerId</th>\n",
       "      <th>Survived</th>\n",
       "      <th>Pclass</th>\n",
       "      <th>Name</th>\n",
       "      <th>Sex</th>\n",
       "      <th>Age</th>\n",
       "      <th>SibSp</th>\n",
       "      <th>Parch</th>\n",
       "      <th>Ticket</th>\n",
       "      <th>Fare</th>\n",
       "      <th>Cabin</th>\n",
       "      <th>Embarked</th>\n",
       "    </tr>\n",
       "  </thead>\n",
       "  <tbody>\n",
       "    <tr>\n",
       "      <th>549</th>\n",
       "      <td>550</td>\n",
       "      <td>1</td>\n",
       "      <td>2</td>\n",
       "      <td>Davies, Master. John Morgan Jr</td>\n",
       "      <td>male</td>\n",
       "      <td>8.0</td>\n",
       "      <td>1</td>\n",
       "      <td>1</td>\n",
       "      <td>C.A. 33112</td>\n",
       "      <td>36.7500</td>\n",
       "      <td>NaN</td>\n",
       "      <td>S</td>\n",
       "    </tr>\n",
       "    <tr>\n",
       "      <th>672</th>\n",
       "      <td>673</td>\n",
       "      <td>0</td>\n",
       "      <td>2</td>\n",
       "      <td>Mitchell, Mr. Henry Michael</td>\n",
       "      <td>male</td>\n",
       "      <td>70.0</td>\n",
       "      <td>0</td>\n",
       "      <td>0</td>\n",
       "      <td>C.A. 24580</td>\n",
       "      <td>10.5000</td>\n",
       "      <td>NaN</td>\n",
       "      <td>S</td>\n",
       "    </tr>\n",
       "    <tr>\n",
       "      <th>303</th>\n",
       "      <td>304</td>\n",
       "      <td>1</td>\n",
       "      <td>2</td>\n",
       "      <td>Keane, Miss. Nora A</td>\n",
       "      <td>female</td>\n",
       "      <td>NaN</td>\n",
       "      <td>0</td>\n",
       "      <td>0</td>\n",
       "      <td>226593</td>\n",
       "      <td>12.3500</td>\n",
       "      <td>E101</td>\n",
       "      <td>Q</td>\n",
       "    </tr>\n",
       "    <tr>\n",
       "      <th>758</th>\n",
       "      <td>759</td>\n",
       "      <td>0</td>\n",
       "      <td>3</td>\n",
       "      <td>Theobald, Mr. Thomas Leonard</td>\n",
       "      <td>male</td>\n",
       "      <td>34.0</td>\n",
       "      <td>0</td>\n",
       "      <td>0</td>\n",
       "      <td>363294</td>\n",
       "      <td>8.0500</td>\n",
       "      <td>NaN</td>\n",
       "      <td>S</td>\n",
       "    </tr>\n",
       "    <tr>\n",
       "      <th>395</th>\n",
       "      <td>396</td>\n",
       "      <td>0</td>\n",
       "      <td>3</td>\n",
       "      <td>Johansson, Mr. Erik</td>\n",
       "      <td>male</td>\n",
       "      <td>22.0</td>\n",
       "      <td>0</td>\n",
       "      <td>0</td>\n",
       "      <td>350052</td>\n",
       "      <td>7.7958</td>\n",
       "      <td>NaN</td>\n",
       "      <td>S</td>\n",
       "    </tr>\n",
       "  </tbody>\n",
       "</table>\n",
       "</div>"
      ],
      "text/plain": [
       "     PassengerId  Survived  Pclass                            Name     Sex  \\\n",
       "549          550         1       2  Davies, Master. John Morgan Jr    male   \n",
       "672          673         0       2     Mitchell, Mr. Henry Michael    male   \n",
       "303          304         1       2             Keane, Miss. Nora A  female   \n",
       "758          759         0       3    Theobald, Mr. Thomas Leonard    male   \n",
       "395          396         0       3             Johansson, Mr. Erik    male   \n",
       "\n",
       "      Age  SibSp  Parch      Ticket     Fare Cabin Embarked  \n",
       "549   8.0      1      1  C.A. 33112  36.7500   NaN        S  \n",
       "672  70.0      0      0  C.A. 24580  10.5000   NaN        S  \n",
       "303   NaN      0      0      226593  12.3500  E101        Q  \n",
       "758  34.0      0      0      363294   8.0500   NaN        S  \n",
       "395  22.0      0      0      350052   7.7958   NaN        S  "
      ]
     },
     "execution_count": 8,
     "metadata": {},
     "output_type": "execute_result"
    }
   ],
   "source": [
    "df.sample(5)"
   ]
  },
  {
   "cell_type": "markdown",
   "id": "b6ae8342",
   "metadata": {},
   "source": [
    "df.sample() , df.head(), df.tail() akan menampilkan beberapa baris data secara langsung.\n",
    "Perhatikan, **apakah ada kolom dengan nilai yang tidak sesuai dengan nama kolom?**"
   ]
  },
  {
   "cell_type": "markdown",
   "id": "4d86df23",
   "metadata": {},
   "source": [
    "### Stastical Summary"
   ]
  },
  {
   "cell_type": "code",
   "execution_count": 9,
   "id": "b20849ea",
   "metadata": {},
   "outputs": [
    {
     "data": {
      "text/html": [
       "<div>\n",
       "<style scoped>\n",
       "    .dataframe tbody tr th:only-of-type {\n",
       "        vertical-align: middle;\n",
       "    }\n",
       "\n",
       "    .dataframe tbody tr th {\n",
       "        vertical-align: top;\n",
       "    }\n",
       "\n",
       "    .dataframe thead th {\n",
       "        text-align: right;\n",
       "    }\n",
       "</style>\n",
       "<table border=\"1\" class=\"dataframe\">\n",
       "  <thead>\n",
       "    <tr style=\"text-align: right;\">\n",
       "      <th></th>\n",
       "      <th>PassengerId</th>\n",
       "      <th>Survived</th>\n",
       "      <th>Pclass</th>\n",
       "      <th>Age</th>\n",
       "      <th>SibSp</th>\n",
       "      <th>Parch</th>\n",
       "      <th>Fare</th>\n",
       "    </tr>\n",
       "  </thead>\n",
       "  <tbody>\n",
       "    <tr>\n",
       "      <th>count</th>\n",
       "      <td>891.000000</td>\n",
       "      <td>891.000000</td>\n",
       "      <td>891.000000</td>\n",
       "      <td>714.000000</td>\n",
       "      <td>891.000000</td>\n",
       "      <td>891.000000</td>\n",
       "      <td>891.000000</td>\n",
       "    </tr>\n",
       "    <tr>\n",
       "      <th>mean</th>\n",
       "      <td>446.000000</td>\n",
       "      <td>0.383838</td>\n",
       "      <td>2.308642</td>\n",
       "      <td>29.699118</td>\n",
       "      <td>0.523008</td>\n",
       "      <td>0.381594</td>\n",
       "      <td>32.204208</td>\n",
       "    </tr>\n",
       "    <tr>\n",
       "      <th>std</th>\n",
       "      <td>257.353842</td>\n",
       "      <td>0.486592</td>\n",
       "      <td>0.836071</td>\n",
       "      <td>14.526497</td>\n",
       "      <td>1.102743</td>\n",
       "      <td>0.806057</td>\n",
       "      <td>49.693429</td>\n",
       "    </tr>\n",
       "    <tr>\n",
       "      <th>min</th>\n",
       "      <td>1.000000</td>\n",
       "      <td>0.000000</td>\n",
       "      <td>1.000000</td>\n",
       "      <td>0.420000</td>\n",
       "      <td>0.000000</td>\n",
       "      <td>0.000000</td>\n",
       "      <td>0.000000</td>\n",
       "    </tr>\n",
       "    <tr>\n",
       "      <th>25%</th>\n",
       "      <td>223.500000</td>\n",
       "      <td>0.000000</td>\n",
       "      <td>2.000000</td>\n",
       "      <td>20.125000</td>\n",
       "      <td>0.000000</td>\n",
       "      <td>0.000000</td>\n",
       "      <td>7.910400</td>\n",
       "    </tr>\n",
       "    <tr>\n",
       "      <th>50%</th>\n",
       "      <td>446.000000</td>\n",
       "      <td>0.000000</td>\n",
       "      <td>3.000000</td>\n",
       "      <td>28.000000</td>\n",
       "      <td>0.000000</td>\n",
       "      <td>0.000000</td>\n",
       "      <td>14.454200</td>\n",
       "    </tr>\n",
       "    <tr>\n",
       "      <th>75%</th>\n",
       "      <td>668.500000</td>\n",
       "      <td>1.000000</td>\n",
       "      <td>3.000000</td>\n",
       "      <td>38.000000</td>\n",
       "      <td>1.000000</td>\n",
       "      <td>0.000000</td>\n",
       "      <td>31.000000</td>\n",
       "    </tr>\n",
       "    <tr>\n",
       "      <th>max</th>\n",
       "      <td>891.000000</td>\n",
       "      <td>1.000000</td>\n",
       "      <td>3.000000</td>\n",
       "      <td>80.000000</td>\n",
       "      <td>8.000000</td>\n",
       "      <td>6.000000</td>\n",
       "      <td>512.329200</td>\n",
       "    </tr>\n",
       "  </tbody>\n",
       "</table>\n",
       "</div>"
      ],
      "text/plain": [
       "       PassengerId    Survived      Pclass         Age       SibSp  \\\n",
       "count   891.000000  891.000000  891.000000  714.000000  891.000000   \n",
       "mean    446.000000    0.383838    2.308642   29.699118    0.523008   \n",
       "std     257.353842    0.486592    0.836071   14.526497    1.102743   \n",
       "min       1.000000    0.000000    1.000000    0.420000    0.000000   \n",
       "25%     223.500000    0.000000    2.000000   20.125000    0.000000   \n",
       "50%     446.000000    0.000000    3.000000   28.000000    0.000000   \n",
       "75%     668.500000    1.000000    3.000000   38.000000    1.000000   \n",
       "max     891.000000    1.000000    3.000000   80.000000    8.000000   \n",
       "\n",
       "            Parch        Fare  \n",
       "count  891.000000  891.000000  \n",
       "mean     0.381594   32.204208  \n",
       "std      0.806057   49.693429  \n",
       "min      0.000000    0.000000  \n",
       "25%      0.000000    7.910400  \n",
       "50%      0.000000   14.454200  \n",
       "75%      0.000000   31.000000  \n",
       "max      6.000000  512.329200  "
      ]
     },
     "execution_count": 9,
     "metadata": {},
     "output_type": "execute_result"
    }
   ],
   "source": [
    "df.describe()"
   ]
  },
  {
   "cell_type": "markdown",
   "id": "e0c59036",
   "metadata": {},
   "source": [
    "Secara default *hanya kolom numerik* saja yang akan ditampilkan\n",
    "1. **Apakah nilai yang tertera pada setiap kolom masuk akal?**\n",
    "2. **Apakah nilai maks/min masih berada di batas wajar?**(min/max yang terlalu jauh dari mean/median bisa jadi indikasi kesalahan input data)\n",
    "3. **Apakah ada kolom dengan perbedaan yang signifikan antara mean dan median?** Perbedaan antara mean/median mengindikasikan outlier atau skewed distribution"
   ]
  },
  {
   "cell_type": "code",
   "execution_count": 8,
   "id": "3da18476",
   "metadata": {},
   "outputs": [
    {
     "data": {
      "text/html": [
       "<div>\n",
       "<style scoped>\n",
       "    .dataframe tbody tr th:only-of-type {\n",
       "        vertical-align: middle;\n",
       "    }\n",
       "\n",
       "    .dataframe tbody tr th {\n",
       "        vertical-align: top;\n",
       "    }\n",
       "\n",
       "    .dataframe thead th {\n",
       "        text-align: right;\n",
       "    }\n",
       "</style>\n",
       "<table border=\"1\" class=\"dataframe\">\n",
       "  <thead>\n",
       "    <tr style=\"text-align: right;\">\n",
       "      <th></th>\n",
       "      <th>Sex</th>\n",
       "      <th>Embarked</th>\n",
       "    </tr>\n",
       "  </thead>\n",
       "  <tbody>\n",
       "    <tr>\n",
       "      <th>count</th>\n",
       "      <td>891</td>\n",
       "      <td>889</td>\n",
       "    </tr>\n",
       "    <tr>\n",
       "      <th>unique</th>\n",
       "      <td>2</td>\n",
       "      <td>3</td>\n",
       "    </tr>\n",
       "    <tr>\n",
       "      <th>top</th>\n",
       "      <td>male</td>\n",
       "      <td>S</td>\n",
       "    </tr>\n",
       "    <tr>\n",
       "      <th>freq</th>\n",
       "      <td>577</td>\n",
       "      <td>644</td>\n",
       "    </tr>\n",
       "  </tbody>\n",
       "</table>\n",
       "</div>"
      ],
      "text/plain": [
       "         Sex Embarked\n",
       "count    891      889\n",
       "unique     2        3\n",
       "top     male        S\n",
       "freq     577      644"
      ]
     },
     "execution_count": 8,
     "metadata": {},
     "output_type": "execute_result"
    }
   ],
   "source": [
    "df[categoricals].describe()"
   ]
  },
  {
   "cell_type": "markdown",
   "id": "09558113",
   "metadata": {},
   "source": [
    "Yang perlu diperhatikan:\n",
    "1. **Apakah jumlah unique values masuk akal?**\n",
    "2. **Apakah frequensi dari nilai yang paling umum terlalu timpang?** \n",
    "kalo timpang kolom tsb tidak akan terlalu berguna dalam analisis"
   ]
  },
  {
   "cell_type": "markdown",
   "id": "6d14a305",
   "metadata": {},
   "source": [
    "#### Value Counting"
   ]
  },
  {
   "cell_type": "code",
   "execution_count": 9,
   "id": "2b7c8204",
   "metadata": {},
   "outputs": [
    {
     "data": {
      "text/plain": [
       "male      577\n",
       "female    314\n",
       "Name: Sex, dtype: int64"
      ]
     },
     "execution_count": 9,
     "metadata": {},
     "output_type": "execute_result"
    }
   ],
   "source": [
    "df['Sex'].value_counts()"
   ]
  },
  {
   "cell_type": "markdown",
   "id": "ff00e869",
   "metadata": {},
   "source": [
    "menampilkan jumlah dari setiap nilai unik di kolom tersebut"
   ]
  },
  {
   "cell_type": "markdown",
   "id": "a139e8b7",
   "metadata": {},
   "source": [
    "#### See Unique Values"
   ]
  },
  {
   "cell_type": "code",
   "execution_count": 10,
   "id": "784cfe15",
   "metadata": {},
   "outputs": [
    {
     "data": {
      "text/plain": [
       "array(['male', 'female'], dtype=object)"
      ]
     },
     "execution_count": 10,
     "metadata": {},
     "output_type": "execute_result"
    }
   ],
   "source": [
    "df['Sex'].unique()"
   ]
  },
  {
   "cell_type": "markdown",
   "id": "b3378eed",
   "metadata": {},
   "source": [
    "menampilkan semua nilai unik di kolom"
   ]
  },
  {
   "cell_type": "markdown",
   "id": "084ef7f6",
   "metadata": {},
   "source": [
    "## Univariate Analysis\n",
    "Analisis setiap kolom secara terpisah, melihat distribusi nilainya secara detail."
   ]
  },
  {
   "cell_type": "markdown",
   "id": "7ea32180",
   "metadata": {},
   "source": [
    "#### Individual Boxplot (Numeric)"
   ]
  },
  {
   "cell_type": "code",
   "execution_count": 17,
   "id": "4995b351",
   "metadata": {},
   "outputs": [
    {
     "data": {
      "image/png": "[encoded data removed]",
      "text/plain": [
       "<Figure size 864x288 with 6 Axes>"
      ]
     },
     "metadata": {
      "needs_background": "light"
     },
     "output_type": "display_data"
    }
   ],
   "source": [
    "plt.figure(figsize = (12,4))\n",
    "for i in range(0, len(numericals)):\n",
    "    plt.subplot(1, 7, i+1)\n",
    "    sns.boxplot(y = df[numericals[i]], color = 'green', orient = 'v')\n",
    "    plt.tight_layout()"
   ]
  },
  {
   "cell_type": "markdown",
   "id": "66700f5f",
   "metadata": {},
   "source": [
    "Yang diperhatikan adalah\n",
    "**Berapa banyak dan berapa jauh outlier di setiap kolom?**\n",
    "Definisi umum outlier: berjarak 1.5 IQR dari Q1/Q3.\n",
    "Terlihat untuk variabel **Age, SibSp, Parch, dan Fare memiliki outlier**. Parch dianggap tidak terlalu bermakna sebagai variabel untuk dianalisis."
   ]
  },
  {
   "cell_type": "markdown",
   "id": "076cbeba",
   "metadata": {},
   "source": [
    "#### Individual Distplot (Numerical)"
   ]
  },
  {
   "cell_type": "code",
   "execution_count": 18,
   "id": "c755f3f3",
   "metadata": {},
   "outputs": [
    {
     "name": "stderr",
     "output_type": "stream",
     "text": [
      "c:\\users\\asus\\appdata\\local\\programs\\python\\python39\\lib\\site-packages\\seaborn\\distributions.py:2619: FutureWarning: `distplot` is a deprecated function and will be removed in a future version. Please adapt your code to use either `displot` (a figure-level function with similar flexibility) or `histplot` (an axes-level function for histograms).\n",
      "  warnings.warn(msg, FutureWarning)\n",
      "c:\\users\\asus\\appdata\\local\\programs\\python\\python39\\lib\\site-packages\\seaborn\\distributions.py:2619: FutureWarning: `distplot` is a deprecated function and will be removed in a future version. Please adapt your code to use either `displot` (a figure-level function with similar flexibility) or `histplot` (an axes-level function for histograms).\n",
      "  warnings.warn(msg, FutureWarning)\n",
      "c:\\users\\asus\\appdata\\local\\programs\\python\\python39\\lib\\site-packages\\seaborn\\distributions.py:2619: FutureWarning: `distplot` is a deprecated function and will be removed in a future version. Please adapt your code to use either `displot` (a figure-level function with similar flexibility) or `histplot` (an axes-level function for histograms).\n",
      "  warnings.warn(msg, FutureWarning)\n",
      "c:\\users\\asus\\appdata\\local\\programs\\python\\python39\\lib\\site-packages\\seaborn\\distributions.py:2619: FutureWarning: `distplot` is a deprecated function and will be removed in a future version. Please adapt your code to use either `displot` (a figure-level function with similar flexibility) or `histplot` (an axes-level function for histograms).\n",
      "  warnings.warn(msg, FutureWarning)\n",
      "c:\\users\\asus\\appdata\\local\\programs\\python\\python39\\lib\\site-packages\\seaborn\\distributions.py:2619: FutureWarning: `distplot` is a deprecated function and will be removed in a future version. Please adapt your code to use either `displot` (a figure-level function with similar flexibility) or `histplot` (an axes-level function for histograms).\n",
      "  warnings.warn(msg, FutureWarning)\n",
      "c:\\users\\asus\\appdata\\local\\programs\\python\\python39\\lib\\site-packages\\seaborn\\distributions.py:2619: FutureWarning: `distplot` is a deprecated function and will be removed in a future version. Please adapt your code to use either `displot` (a figure-level function with similar flexibility) or `histplot` (an axes-level function for histograms).\n",
      "  warnings.warn(msg, FutureWarning)\n"
     ]
    },
    {
     "data": {
      "image/png": "[encoded data removed]",
      "text/plain": [
       "<Figure size 720x288 with 6 Axes>"
      ]
     },
     "metadata": {
      "needs_background": "light"
     },
     "output_type": "display_data"
    }
   ],
   "source": [
    "plt.figure(figsize = (10,4))\n",
    "for i in range (0, len(numericals)):\n",
    "    plt.subplot(2, 4, i+1)\n",
    "    sns.distplot(df[numericals[i]], color = 'green')\n",
    "    plt.tight_layout()\n",
    "plt.show()"
   ]
  },
  {
   "cell_type": "markdown",
   "id": "56173d62",
   "metadata": {},
   "source": [
    "Dalam hal ini kolom **Age** menarik karena datanya cukup granular. Distribusi umur pada kapal titanic dengan puncak umurnya di sekitar 20-30 tahun dan terdapat cukup banyak bayi."
   ]
  },
  {
   "cell_type": "markdown",
   "id": "60b3ce4a",
   "metadata": {},
   "source": [
    "Yang perlu diperhatikan:\n",
    "1. **Bagaimana bentuk distribusi setiap kolom?**\n",
    "Apakah normal?Possitive skewed?Negative skewed?Bimodal?\n",
    "2. **Apakah ada nilai-nilai tertentu yang umum?**\n",
    "Lonjakan pada distribution plot mungkin memiliki makna tertentu."
   ]
  },
  {
   "cell_type": "markdown",
   "id": "c168c23b",
   "metadata": {},
   "source": [
    "#### Individual Countplot (kategorikal)"
   ]
  },
  {
   "cell_type": "code",
   "execution_count": 27,
   "id": "699dd982",
   "metadata": {
    "scrolled": false
   },
   "outputs": [
    {
     "name": "stderr",
     "output_type": "stream",
     "text": [
      "c:\\users\\asus\\appdata\\local\\programs\\python\\python39\\lib\\site-packages\\seaborn\\_decorators.py:36: FutureWarning: Pass the following variable as a keyword arg: x. From version 0.12, the only valid positional argument will be `data`, and passing other arguments without an explicit keyword will result in an error or misinterpretation.\n",
      "  warnings.warn(\n",
      "c:\\users\\asus\\appdata\\local\\programs\\python\\python39\\lib\\site-packages\\seaborn\\_decorators.py:36: FutureWarning: Pass the following variable as a keyword arg: x. From version 0.12, the only valid positional argument will be `data`, and passing other arguments without an explicit keyword will result in an error or misinterpretation.\n",
      "  warnings.warn(\n"
     ]
    },
    {
     "data": {
      "image/png": "[encoded data removed]",
      "text/plain": [
       "<Figure size 720x288 with 2 Axes>"
      ]
     },
     "metadata": {
      "needs_background": "light"
     },
     "output_type": "display_data"
    }
   ],
   "source": [
    "plt.figure(figsize = (10,4))\n",
    "for i in range (0, len(categoricals)):\n",
    "    plt.subplot(1, 2, i+1)\n",
    "    sns.countplot(df[categoricals[i]], color = 'green')\n",
    "    plt.tight_layout()"
   ]
  },
  {
   "cell_type": "markdown",
   "id": "48a7d239",
   "metadata": {},
   "source": [
    "Yang perlu diperhatikan adalah **ketimpangan antar kategori, terutama pada target** Sebaran kategori yang timpang pada feature merupakan indikasi ketidakgunaan feature. Pada target, sebaran yang timpang dapat membuat proses learning gagal."
   ]
  },
  {
   "cell_type": "markdown",
   "id": "75c3e586",
   "metadata": {},
   "source": [
    "## Multivariate Analysis\n",
    "yaitu analisis beberapa kolom sekaligus untuk mencari hubungan antar kolom."
   ]
  },
  {
   "cell_type": "markdown",
   "id": "12a4f210",
   "metadata": {},
   "source": [
    "#### Korelasi Linear"
   ]
  },
  {
   "cell_type": "markdown",
   "id": "0b4dfd3b",
   "metadata": {},
   "source": [
    "Dua variabel X dan Y dikatakan memiliki korelasi linear apabila:\n",
    "1. **Nilai X dan Y berhubungan sejalan**. Semakin besar X, semakin besar pula Y atau semakin besar X maka semakin kecil Y.\n",
    "2. **Laju perubahan X terhadap Y KONSTAN**. Perubahan Y ketika X digeser (contohnya) sepanjang 1 satuan dari X = i ke X = i+1 akan sama berapapun i.\n",
    "**Contoh** : korelasi antara jumlah barang dan harga."
   ]
  },
  {
   "cell_type": "markdown",
   "id": "c8edb2e7",
   "metadata": {},
   "source": [
    "#### Korelasi Non-Linear"
   ]
  },
  {
   "cell_type": "markdown",
   "id": "f2906ba8",
   "metadata": {},
   "source": [
    "Dua variabel X dan Y dikatakan memiliki korelasi non linear apabila:\n",
    "1. **Nilai X dan Y berhubungan sejalan**. Semakin besar X, semakin besar pula Y atau semakin besar X maka semakin kecil Y.\n",
    "2. **Laju perubahan X terhadap Y TIDAK KONSTAN**. \n",
    "**Contoh** : korelasi antara uang dan kebahagiaan."
   ]
  },
  {
   "cell_type": "markdown",
   "id": "82b62413",
   "metadata": {},
   "source": [
    "#### Correlation Heatmap (Numeric)"
   ]
  },
  {
   "cell_type": "code",
   "execution_count": 28,
   "id": "f01e760d",
   "metadata": {},
   "outputs": [
    {
     "data": {
      "text/plain": [
       "<AxesSubplot:>"
      ]
     },
     "execution_count": 28,
     "metadata": {},
     "output_type": "execute_result"
    },
    {
     "data": {
      "image/png": "[encoded data removed]",
      "text/plain": [
       "<Figure size 720x504 with 2 Axes>"
      ]
     },
     "metadata": {
      "needs_background": "light"
     },
     "output_type": "display_data"
    }
   ],
   "source": [
    "sns.heatmap(df.corr(), cmap = 'Blues', annot = True, fmt = '.2f')"
   ]
  },
  {
   "cell_type": "markdown",
   "id": "eccf1c62",
   "metadata": {},
   "source": [
    "Yang perlu diperhatikan:\n",
    "1. **Apakah feature memiliki korelasi dengan target?** Jika tidak maka model linear tidak dapat digunakan\n",
    "2. **Apakah ada 2 feature yang berkorelasi kuat (>0.7)?** Bila Ya, ada kemungkinan besar kedua feature tersebut redundan (pilih satu feature saja)"
   ]
  }
 ],
 "metadata": {
  "kernelspec": {
   "display_name": "Python 3 (ipykernel)",
   "language": "python",
   "name": "python3"
  },
  "language_info": {
   "codemirror_mode": {
    "name": "ipython",
    "version": 3
   },
   "file_extension": ".py",
   "mimetype": "text/x-python",
   "name": "python",
   "nbconvert_exporter": "python",
   "pygments_lexer": "ipython3",
   "version": "3.9.6"
  }
 },
 "nbformat": 4,
 "nbformat_minor": 5
}
