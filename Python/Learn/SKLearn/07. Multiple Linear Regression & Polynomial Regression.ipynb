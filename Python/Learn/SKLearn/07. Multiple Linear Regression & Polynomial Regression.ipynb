{
 "cells": [
  {
   "cell_type": "markdown",
   "id": "9848e16a",
   "metadata": {},
   "source": [
    "## Multiple Linear Regression & Polynomial Regression\n",
    "### Sample Data Set"
   ]
  },
  {
   "cell_type": "markdown",
   "id": "6c450111",
   "metadata": {},
   "source": [
    "#### Training Dataset"
   ]
  },
  {
   "cell_type": "code",
   "execution_count": 1,
   "id": "4e6cbd1e",
   "metadata": {},
   "outputs": [
    {
     "data": {
      "text/html": [
       "<div>\n",
       "<style scoped>\n",
       "    .dataframe tbody tr th:only-of-type {\n",
       "        vertical-align: middle;\n",
       "    }\n",
       "\n",
       "    .dataframe tbody tr th {\n",
       "        vertical-align: top;\n",
       "    }\n",
       "\n",
       "    .dataframe thead th {\n",
       "        text-align: right;\n",
       "    }\n",
       "</style>\n",
       "<table border=\"1\" class=\"dataframe\">\n",
       "  <thead>\n",
       "    <tr style=\"text-align: right;\">\n",
       "      <th></th>\n",
       "      <th>diameter</th>\n",
       "      <th>n_topping</th>\n",
       "      <th>harga</th>\n",
       "    </tr>\n",
       "  </thead>\n",
       "  <tbody>\n",
       "    <tr>\n",
       "      <th>0</th>\n",
       "      <td>6</td>\n",
       "      <td>2</td>\n",
       "      <td>7.0</td>\n",
       "    </tr>\n",
       "    <tr>\n",
       "      <th>1</th>\n",
       "      <td>8</td>\n",
       "      <td>1</td>\n",
       "      <td>9.0</td>\n",
       "    </tr>\n",
       "    <tr>\n",
       "      <th>2</th>\n",
       "      <td>10</td>\n",
       "      <td>0</td>\n",
       "      <td>13.0</td>\n",
       "    </tr>\n",
       "    <tr>\n",
       "      <th>3</th>\n",
       "      <td>14</td>\n",
       "      <td>2</td>\n",
       "      <td>17.5</td>\n",
       "    </tr>\n",
       "    <tr>\n",
       "      <th>4</th>\n",
       "      <td>18</td>\n",
       "      <td>0</td>\n",
       "      <td>18.0</td>\n",
       "    </tr>\n",
       "  </tbody>\n",
       "</table>\n",
       "</div>"
      ],
      "text/plain": [
       "   diameter  n_topping  harga\n",
       "0         6          2    7.0\n",
       "1         8          1    9.0\n",
       "2        10          0   13.0\n",
       "3        14          2   17.5\n",
       "4        18          0   18.0"
      ]
     },
     "execution_count": 1,
     "metadata": {},
     "output_type": "execute_result"
    }
   ],
   "source": [
    "import pandas as pd\n",
    "\n",
    "pizza = {'diameter': [6, 8, 10, 14, 18],\n",
    "         'n_topping' : [2, 1, 0, 2, 0],\n",
    "        'harga': [7, 9, 13, 17.5, 18]}\n",
    "\n",
    "train_pizza_df = pd.DataFrame(pizza)\n",
    "train_pizza_df"
   ]
  },
  {
   "cell_type": "markdown",
   "id": "bfe59a90",
   "metadata": {},
   "source": [
    "#### Testing Dataset"
   ]
  },
  {
   "cell_type": "code",
   "execution_count": 2,
   "id": "a9a156a0",
   "metadata": {},
   "outputs": [
    {
     "data": {
      "text/html": [
       "<div>\n",
       "<style scoped>\n",
       "    .dataframe tbody tr th:only-of-type {\n",
       "        vertical-align: middle;\n",
       "    }\n",
       "\n",
       "    .dataframe tbody tr th {\n",
       "        vertical-align: top;\n",
       "    }\n",
       "\n",
       "    .dataframe thead th {\n",
       "        text-align: right;\n",
       "    }\n",
       "</style>\n",
       "<table border=\"1\" class=\"dataframe\">\n",
       "  <thead>\n",
       "    <tr style=\"text-align: right;\">\n",
       "      <th></th>\n",
       "      <th>diameter</th>\n",
       "      <th>n_topping</th>\n",
       "      <th>harga</th>\n",
       "    </tr>\n",
       "  </thead>\n",
       "  <tbody>\n",
       "    <tr>\n",
       "      <th>0</th>\n",
       "      <td>8</td>\n",
       "      <td>2</td>\n",
       "      <td>11.0</td>\n",
       "    </tr>\n",
       "    <tr>\n",
       "      <th>1</th>\n",
       "      <td>9</td>\n",
       "      <td>0</td>\n",
       "      <td>8.5</td>\n",
       "    </tr>\n",
       "    <tr>\n",
       "      <th>2</th>\n",
       "      <td>11</td>\n",
       "      <td>2</td>\n",
       "      <td>15.0</td>\n",
       "    </tr>\n",
       "    <tr>\n",
       "      <th>3</th>\n",
       "      <td>16</td>\n",
       "      <td>2</td>\n",
       "      <td>18.0</td>\n",
       "    </tr>\n",
       "    <tr>\n",
       "      <th>4</th>\n",
       "      <td>12</td>\n",
       "      <td>0</td>\n",
       "      <td>11.0</td>\n",
       "    </tr>\n",
       "  </tbody>\n",
       "</table>\n",
       "</div>"
      ],
      "text/plain": [
       "   diameter  n_topping  harga\n",
       "0         8          2   11.0\n",
       "1         9          0    8.5\n",
       "2        11          2   15.0\n",
       "3        16          2   18.0\n",
       "4        12          0   11.0"
      ]
     },
     "execution_count": 2,
     "metadata": {},
     "output_type": "execute_result"
    }
   ],
   "source": [
    "pizza = {'diameter': [8, 9, 11, 16, 12],\n",
    "         'n_topping' : [2, 0, 2, 2, 0],\n",
    "        'harga': [11, 8.5, 15, 18, 11]}\n",
    "\n",
    "test_pizza_df = pd.DataFrame(pizza)\n",
    "test_pizza_df"
   ]
  },
  {
   "cell_type": "markdown",
   "id": "e026f807",
   "metadata": {},
   "source": [
    "## Preprocessing Dataset"
   ]
  },
  {
   "cell_type": "code",
   "execution_count": 5,
   "id": "78f2422b",
   "metadata": {},
   "outputs": [
    {
     "name": "stdout",
     "output_type": "stream",
     "text": [
      "X_train : \n",
      " [[ 6  2]\n",
      " [ 8  1]\n",
      " [10  0]\n",
      " [14  2]\n",
      " [18  0]] \n",
      "\n",
      "y_train : [ 7.   9.  13.  17.5 18. ] \n"
     ]
    }
   ],
   "source": [
    "import numpy as np\n",
    "\n",
    "X_train = np.array(train_pizza_df[['diameter','n_topping']])\n",
    "y_train = np.array(train_pizza_df['harga'])\n",
    "\n",
    "print(f'X_train : \\n {X_train} \\n')\n",
    "print(f'y_train : {y_train} ')"
   ]
  },
  {
   "cell_type": "code",
   "execution_count": 6,
   "id": "65d49c66",
   "metadata": {},
   "outputs": [
    {
     "name": "stdout",
     "output_type": "stream",
     "text": [
      "X_test : \n",
      " [[ 8  2]\n",
      " [ 9  0]\n",
      " [11  2]\n",
      " [16  2]\n",
      " [12  0]] \n",
      "\n",
      "y_test : [11.   8.5 15.  18.  11. ] \n"
     ]
    }
   ],
   "source": [
    "X_test = np.array(test_pizza_df[['diameter','n_topping']])\n",
    "y_test = np.array(test_pizza_df['harga'])\n",
    "\n",
    "print(f'X_test : \\n {X_test} \\n')\n",
    "print(f'y_test : {y_test} ')"
   ]
  },
  {
   "attachments": {
    "image.png": {
     "image/png": "[encoded data removed]"
    }
   },
   "cell_type": "markdown",
   "id": "9943bf29",
   "metadata": {},
   "source": [
    "## Multiple Linear Regression\n",
    "Multiple Linear Regression adalah generaslisasi dari SImple Linear Regression yang memungkinkan untuk menggunakan beberpa explanatory variables.\n",
    "![image.png](attachment:image.png)"
   ]
  },
  {
   "cell_type": "code",
   "execution_count": 7,
   "id": "9a1bf4ab",
   "metadata": {},
   "outputs": [
    {
     "name": "stdout",
     "output_type": "stream",
     "text": [
      "r_squared: 0.7701677731318468\n"
     ]
    }
   ],
   "source": [
    "from sklearn.linear_model import LinearRegression\n",
    "from sklearn.metrics import r2_score\n",
    "\n",
    "model = LinearRegression()\n",
    "model.fit(X_train, y_train)\n",
    "y_pred = model.predict(X_test)\n",
    "\n",
    "print(f'r_squared: {r2_score(y_test, y_pred)}')"
   ]
  },
  {
   "cell_type": "markdown",
   "id": "d314e424",
   "metadata": {},
   "source": [
    "## Polynomial Regression\n",
    "Polynomial Regression memodelkan hubungan antara independent variable x dan dependent variable y sebagai derajat polinomial dalam x\n"
   ]
  },
  {
   "cell_type": "markdown",
   "id": "58614c80",
   "metadata": {},
   "source": [
    "## Preprocessing Dataset"
   ]
  },
  {
   "cell_type": "code",
   "execution_count": 10,
   "id": "69355dec",
   "metadata": {},
   "outputs": [
    {
     "name": "stdout",
     "output_type": "stream",
     "text": [
      "X_train : \n",
      " [[ 6]\n",
      " [ 8]\n",
      " [10]\n",
      " [14]\n",
      " [18]] \n",
      "\n",
      "y_train : [ 7.   9.  13.  17.5 18. ] \n"
     ]
    }
   ],
   "source": [
    "X_train = np.array(train_pizza_df['diameter']).reshape(-1,1)\n",
    "y_train = np.array(train_pizza_df['harga'])\n",
    "\n",
    "print(f'X_train : \\n {X_train} \\n')\n",
    "print(f'y_train : {y_train} ')"
   ]
  },
  {
   "attachments": {
    "image.png": {
     "image/png": "[encoded data removed]"
    }
   },
   "cell_type": "markdown",
   "id": "7964e63f",
   "metadata": {},
   "source": [
    "## Polynomial Regression: Quadratic\n",
    "![image.png](attachment:image.png)"
   ]
  },
  {
   "cell_type": "markdown",
   "id": "c15ef95c",
   "metadata": {},
   "source": [
    "### Polynomial Features"
   ]
  },
  {
   "cell_type": "code",
   "execution_count": 11,
   "id": "b6deecdc",
   "metadata": {},
   "outputs": [
    {
     "name": "stdout",
     "output_type": "stream",
     "text": [
      "X_train_quadratic : \n",
      " [[  1.   6.  36.]\n",
      " [  1.   8.  64.]\n",
      " [  1.  10. 100.]\n",
      " [  1.  14. 196.]\n",
      " [  1.  18. 324.]]\n",
      "\n"
     ]
    }
   ],
   "source": [
    "from sklearn.preprocessing import PolynomialFeatures\n",
    "\n",
    "quadratic_feature = PolynomialFeatures(degree = 2)\n",
    "X_train_quadratic = quadratic_feature.fit_transform(X_train)\n",
    "\n",
    "print(f'X_train_quadratic : \\n {X_train_quadratic}\\n')"
   ]
  },
  {
   "cell_type": "markdown",
   "id": "eeb5cbf0",
   "metadata": {},
   "source": [
    "* proses polynomialnya hanya dikenakan pada features."
   ]
  },
  {
   "cell_type": "markdown",
   "id": "125e1fcc",
   "metadata": {},
   "source": [
    "### Training Model"
   ]
  },
  {
   "cell_type": "code",
   "execution_count": 15,
   "id": "d3f54a8a",
   "metadata": {},
   "outputs": [
    {
     "data": {
      "text/plain": [
       "LinearRegression()"
      ]
     },
     "execution_count": 15,
     "metadata": {},
     "output_type": "execute_result"
    }
   ],
   "source": [
    "model = LinearRegression()\n",
    "model.fit(X_train_quadratic, y_train)"
   ]
  },
  {
   "cell_type": "markdown",
   "id": "73a3ac49",
   "metadata": {},
   "source": [
    "## Visualisasi Model"
   ]
  },
  {
   "cell_type": "code",
   "execution_count": 17,
   "id": "e2ad786f",
   "metadata": {},
   "outputs": [
    {
     "data": {
      "text/plain": [
       "<function matplotlib.pyplot.show(close=None, block=None)>"
      ]
     },
     "execution_count": 17,
     "metadata": {},
     "output_type": "execute_result"
    },
    {
     "data": {
      "image/png": "[encoded data removed]",
      "text/plain": [
       "<Figure size 432x288 with 1 Axes>"
      ]
     },
     "metadata": {
      "needs_background": "light"
     },
     "output_type": "display_data"
    }
   ],
   "source": [
    "import matplotlib.pyplot as plt\n",
    "\n",
    "X_vis = np.linspace(0, 25, 100).reshape(-1, 1)\n",
    "X_vis_quadratic = quadratic_feature.transform(X_vis)\n",
    "y_vis_quadratic = model.predict(X_vis_quadratic)\n",
    "\n",
    "plt.scatter(X_train, y_train)\n",
    "plt.plot(X_vis, y_vis_quadratic, '-r')\n",
    "\n",
    "plt.title('Perbandingan Diameter dan Harga Pizza')\n",
    "plt.xlabel('Diameter (inch)')\n",
    "plt.ylabel('Harga (dollar)')\n",
    "plt.xlim(0, 25)\n",
    "plt.ylim(0, 25)\n",
    "plt.grid(True)\n",
    "plt.show"
   ]
  },
  {
   "cell_type": "markdown",
   "id": "fc54d6e8",
   "metadata": {},
   "source": [
    "## Polynomial Regression: Quadratic vs Cubic"
   ]
  },
  {
   "cell_type": "code",
   "execution_count": 18,
   "id": "ee5903e9",
   "metadata": {},
   "outputs": [
    {
     "data": {
      "text/plain": [
       "<function matplotlib.pyplot.show(close=None, block=None)>"
      ]
     },
     "execution_count": 18,
     "metadata": {},
     "output_type": "execute_result"
    },
    {
     "data": {
      "image/png": "[encoded data removed]",
      "text/plain": [
       "<Figure size 432x288 with 1 Axes>"
      ]
     },
     "metadata": {
      "needs_background": "light"
     },
     "output_type": "display_data"
    }
   ],
   "source": [
    "# Training Set\n",
    "plt.scatter(X_train, y_train)\n",
    "\n",
    "# Linear\n",
    "model = LinearRegression()\n",
    "model.fit(X_train, y_train)\n",
    "X_vis = np.linspace(0, 25, 100).reshape(-1, 1)\n",
    "y_vis = model.predict(X_vis)\n",
    "plt.plot(X_vis, y_vis, '--r', label = 'linear')\n",
    "\n",
    "# Quadratic\n",
    "quadratic_feature = PolynomialFeatures(degree = 2)\n",
    "X_train_quadratic = quadratic_feature.fit_transform(X_train)\n",
    "model = LinearRegression()\n",
    "model.fit(X_train_quadratic, y_train)\n",
    "X_vis_quadratic = quadratic_feature.transform(X_vis)\n",
    "y_vis = model.predict(X_vis_quadratic)\n",
    "plt.plot(X_vis, y_vis, '--g', label = 'quadratic')\n",
    "\n",
    "# Cubic\n",
    "cubic_feature = PolynomialFeatures(degree = 3)\n",
    "X_train_cubic = cubic_feature.fit_transform(X_train)\n",
    "model = LinearRegression()\n",
    "model.fit(X_train_cubic, y_train)\n",
    "X_vis_cubic = cubic_feature.transform(X_vis)\n",
    "y_vis = model.predict(X_vis_cubic)\n",
    "plt.plot(X_vis, y_vis, '--y', label = 'cubic')\n",
    "\n",
    "plt.title('Perbandingan Diameter dan Harga Pizza')\n",
    "plt.xlabel('Diameter (inch)')\n",
    "plt.ylabel('Harga (dollar)')\n",
    "plt.legend()\n",
    "plt.xlim(0, 25)\n",
    "plt.ylim(0, 25)\n",
    "plt.grid(True)\n",
    "plt.show\n"
   ]
  }
 ],
 "metadata": {
  "kernelspec": {
   "display_name": "Python 3 (ipykernel)",
   "language": "python",
   "name": "python3"
  },
  "language_info": {
   "codemirror_mode": {
    "name": "ipython",
    "version": 3
   },
   "file_extension": ".py",
   "mimetype": "text/x-python",
   "name": "python",
   "nbconvert_exporter": "python",
   "pygments_lexer": "ipython3",
   "version": "3.9.6"
  }
 },
 "nbformat": 4,
 "nbformat_minor": 5
}
