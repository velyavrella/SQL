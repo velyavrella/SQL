{
 "cells": [
  {
   "cell_type": "markdown",
   "id": "12ed6f56",
   "metadata": {},
   "source": [
    "### Load Sample Dataset Iris Dataset"
   ]
  },
  {
   "cell_type": "code",
   "execution_count": 2,
   "id": "81f2879c",
   "metadata": {},
   "outputs": [],
   "source": [
    "from sklearn.datasets import load_iris\n",
    "\n",
    "iris = load_iris()\n",
    "\n",
    "X = iris.data\n",
    "y = iris.target"
   ]
  },
  {
   "cell_type": "markdown",
   "id": "bd4024f2",
   "metadata": {},
   "source": [
    "### Splitting Dataset: Training & Testing Set"
   ]
  },
  {
   "cell_type": "code",
   "execution_count": 3,
   "id": "09f7227b",
   "metadata": {},
   "outputs": [
    {
     "name": "stdout",
     "output_type": "stream",
     "text": [
      "X train: (90, 4)\n",
      "X test: (60, 4)\n",
      "y train: (90,)\n",
      "y test: (60,)\n"
     ]
    }
   ],
   "source": [
    "from sklearn.model_selection import train_test_split\n",
    "\n",
    "X_train, X_test, y_train, y_test = train_test_split(X, \n",
    "                                                 y, \n",
    "                                                 test_size = 0.4, \n",
    "                                                 random_state =1)\n",
    "\n",
    "print(f'X train: {X_train.shape}')\n",
    "print(f'X test: {X_test.shape}')\n",
    "print(f'y train: {y_train.shape}')\n",
    "print(f'y test: {y_test.shape}')"
   ]
  },
  {
   "cell_type": "markdown",
   "id": "64d5dbed",
   "metadata": {},
   "source": [
    "#### Mengaktifkan package dan syntax untuk mengubah skala data"
   ]
  },
  {
   "cell_type": "code",
   "execution_count": null,
   "id": "8af4ce6e",
   "metadata": {},
   "outputs": [],
   "source": [
    "##Feature Scaling\n",
    "#from sklearn.preprocessing import StandardScaler  \n",
    "#scaler = StandardScaler()  \n",
    "#scaler.fit(x_train)\n",
    "\n",
    "#x_train = scaler.transform(x_train)  \n",
    "#x_test = scaler.transform(x_test)"
   ]
  },
  {
   "cell_type": "markdown",
   "id": "c64ff08b",
   "metadata": {},
   "source": [
    "### Training Model"
   ]
  },
  {
   "cell_type": "markdown",
   "id": "ee75b70f",
   "metadata": {},
   "source": [
    "* Pada Scikit Learn, model machine learning dibentuk dari class yang dikenal dengan istilah **estimator**\n",
    "* Setiap estimator akan mengimplementasikan dua method utama yaitu `fit()` dan `predict()`\n",
    "* Method `fit()` digunakan untuk melakukan training model.\n",
    "* Method `predict()` digunakan untuk melakukan estimasi/prediksi dengan memanfaatkan trained model."
   ]
  },
  {
   "cell_type": "code",
   "execution_count": 4,
   "id": "fca24dac",
   "metadata": {},
   "outputs": [
    {
     "data": {
      "text/plain": [
       "KNeighborsClassifier(n_neighbors=3)"
      ]
     },
     "execution_count": 4,
     "metadata": {},
     "output_type": "execute_result"
    }
   ],
   "source": [
    "from sklearn.neighbors import KNeighborsClassifier\n",
    "\n",
    "model = KNeighborsClassifier(n_neighbors = 3)\n",
    "model.fit(X_train, y_train)"
   ]
  },
  {
   "cell_type": "markdown",
   "id": "3becf48e",
   "metadata": {},
   "source": [
    "*K-nearest neighbors* atau KNN adalah algoritma yang berfungsi untuk melakukan **klasifikasi** suatu data berdasarkan data pembelajaran (train data sets), yang diambil dari k tetangga terdekatnya (nearest neighbors). Pembentukan model ini dengan fungsi KNeighborsClassifier yang membutuhkan satu parameter yaitu spesifikasi jumlah neighbors."
   ]
  },
  {
   "cell_type": "markdown",
   "id": "5f7ab4ed",
   "metadata": {},
   "source": [
    "### Evaluasi Model"
   ]
  },
  {
   "cell_type": "code",
   "execution_count": 5,
   "id": "659d83ac",
   "metadata": {},
   "outputs": [
    {
     "name": "stdout",
     "output_type": "stream",
     "text": [
      "Accuracy : 0.9833333333333333\n"
     ]
    }
   ],
   "source": [
    "from sklearn.metrics import accuracy_score\n",
    "\n",
    "y_pred = model.predict(X_test)\n",
    "acc = accuracy_score(y_test, y_pred)\n",
    "print(f'Accuracy : {acc}')"
   ]
  },
  {
   "cell_type": "markdown",
   "id": "da234077",
   "metadata": {},
   "source": [
    "Nilai akurasi dari model sebesar 98.3% yang artinya sangat baik."
   ]
  },
  {
   "cell_type": "markdown",
   "id": "d7109490",
   "metadata": {},
   "source": [
    "### Pemanfaatan Trained Model"
   ]
  },
  {
   "cell_type": "markdown",
   "id": "67043011",
   "metadata": {},
   "source": [
    "Kemudian dilakukan prediksi terhadap data baru menggunakan model yang didapat."
   ]
  },
  {
   "cell_type": "code",
   "execution_count": 6,
   "id": "2db6b78f",
   "metadata": {},
   "outputs": [
    {
     "data": {
      "text/plain": [
       "array([1, 2])"
      ]
     },
     "execution_count": 6,
     "metadata": {},
     "output_type": "execute_result"
    }
   ],
   "source": [
    "data_baru = [[5, 5, 3, 2]\n",
    "            ,[2, 4, 3, 5]]\n",
    "\n",
    "preds = model.predict(data_baru)\n",
    "preds"
   ]
  },
  {
   "cell_type": "code",
   "execution_count": 7,
   "id": "65f16aaf",
   "metadata": {},
   "outputs": [
    {
     "name": "stdout",
     "output_type": "stream",
     "text": [
      "Hasil Prediksi : ['versicolor', 'virginica']\n"
     ]
    }
   ],
   "source": [
    "pred_species = [iris.target_names[p] for p in preds]\n",
    "print(f'Hasil Prediksi : {pred_species}')"
   ]
  },
  {
   "cell_type": "markdown",
   "id": "76015d75",
   "metadata": {},
   "source": [
    "### Dump & Load Trained Model"
   ]
  },
  {
   "cell_type": "markdown",
   "id": "a6efe13b",
   "metadata": {},
   "source": [
    "#### Dumping Model Machine Learning menjadi file `joblib`"
   ]
  },
  {
   "cell_type": "code",
   "execution_count": 8,
   "id": "429da968",
   "metadata": {},
   "outputs": [
    {
     "data": {
      "text/plain": [
       "['iris_classifier_knn.joblib']"
      ]
     },
     "execution_count": 8,
     "metadata": {},
     "output_type": "execute_result"
    }
   ],
   "source": [
    "import joblib\n",
    "joblib.dump(model, 'iris_classifier_knn.joblib')"
   ]
  },
  {
   "cell_type": "markdown",
   "id": "cde1ce2c",
   "metadata": {},
   "source": [
    "`joblib` adalah pustaka python yang digunakan untuk menyimpan dan mengimpor model mesin ke dalam file."
   ]
  },
  {
   "cell_type": "markdown",
   "id": "a7c926c3",
   "metadata": {},
   "source": [
    "#### Loading Model Machine Learning dari file `joblib`"
   ]
  },
  {
   "cell_type": "code",
   "execution_count": 9,
   "id": "7f9005fd",
   "metadata": {},
   "outputs": [],
   "source": [
    "production_model = joblib.load('iris_classifier_knn.joblib')"
   ]
  }
 ],
 "metadata": {
  "kernelspec": {
   "display_name": "Python 3 (ipykernel)",
   "language": "python",
   "name": "python3"
  },
  "language_info": {
   "codemirror_mode": {
    "name": "ipython",
    "version": 3
   },
   "file_extension": ".py",
   "mimetype": "text/x-python",
   "name": "python",
   "nbconvert_exporter": "python",
   "pygments_lexer": "ipython3",
   "version": "3.9.6"
  }
 },
 "nbformat": 4,
 "nbformat_minor": 5
}
