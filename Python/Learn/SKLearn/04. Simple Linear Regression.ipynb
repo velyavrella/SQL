{
 "cells": [
  {
   "cell_type": "markdown",
   "id": "0793fa24",
   "metadata": {},
   "source": [
    "## Simple Linear Regression\n",
    "Simple Linear Regression memodelkan hubungan antara sebuah response variable dengan sebuah explanatory variable sebagai suatu garis lurus (linear)."
   ]
  },
  {
   "cell_type": "markdown",
   "id": "df5165ee",
   "metadata": {},
   "source": [
    "### Sample Dataset"
   ]
  },
  {
   "cell_type": "code",
   "execution_count": 1,
   "id": "aa834faf",
   "metadata": {},
   "outputs": [
    {
     "data": {
      "text/html": [
       "<div>\n",
       "<style scoped>\n",
       "    .dataframe tbody tr th:only-of-type {\n",
       "        vertical-align: middle;\n",
       "    }\n",
       "\n",
       "    .dataframe tbody tr th {\n",
       "        vertical-align: top;\n",
       "    }\n",
       "\n",
       "    .dataframe thead th {\n",
       "        text-align: right;\n",
       "    }\n",
       "</style>\n",
       "<table border=\"1\" class=\"dataframe\">\n",
       "  <thead>\n",
       "    <tr style=\"text-align: right;\">\n",
       "      <th></th>\n",
       "      <th>diameter</th>\n",
       "      <th>harga</th>\n",
       "    </tr>\n",
       "  </thead>\n",
       "  <tbody>\n",
       "    <tr>\n",
       "      <th>0</th>\n",
       "      <td>6</td>\n",
       "      <td>7.0</td>\n",
       "    </tr>\n",
       "    <tr>\n",
       "      <th>1</th>\n",
       "      <td>8</td>\n",
       "      <td>9.0</td>\n",
       "    </tr>\n",
       "    <tr>\n",
       "      <th>2</th>\n",
       "      <td>10</td>\n",
       "      <td>13.0</td>\n",
       "    </tr>\n",
       "    <tr>\n",
       "      <th>3</th>\n",
       "      <td>14</td>\n",
       "      <td>17.5</td>\n",
       "    </tr>\n",
       "    <tr>\n",
       "      <th>4</th>\n",
       "      <td>18</td>\n",
       "      <td>18.0</td>\n",
       "    </tr>\n",
       "  </tbody>\n",
       "</table>\n",
       "</div>"
      ],
      "text/plain": [
       "   diameter  harga\n",
       "0         6    7.0\n",
       "1         8    9.0\n",
       "2        10   13.0\n",
       "3        14   17.5\n",
       "4        18   18.0"
      ]
     },
     "execution_count": 1,
     "metadata": {},
     "output_type": "execute_result"
    }
   ],
   "source": [
    "import pandas as pd\n",
    "\n",
    "pizza = {'diameter': [6, 8, 10, 14, 18],\n",
    "        'harga': [7, 9, 13, 17.5, 18]}\n",
    "\n",
    "pizza_df = pd.DataFrame(pizza)\n",
    "pizza_df"
   ]
  },
  {
   "cell_type": "markdown",
   "id": "c2b43998",
   "metadata": {},
   "source": [
    "dataset berupa dataframe yang terdiri dari 2 kolom yaitu diameter dan harga.\n",
    "Kali ini, akan membentuk model machine learning sederhana yang dapat digunakan untuk **memprediksi** harga jika diketahui diameter pizza. Dengan diameter sebagai `feature` dan harga sebagai `target`."
   ]
  },
  {
   "cell_type": "markdown",
   "id": "f2895e2c",
   "metadata": {},
   "source": [
    "### Visualisasi Data"
   ]
  },
  {
   "cell_type": "code",
   "execution_count": 3,
   "id": "06783e20",
   "metadata": {},
   "outputs": [
    {
     "data": {
      "image/png": "[encoded data removed]",
      "text/plain": [
       "<Figure size 432x288 with 1 Axes>"
      ]
     },
     "metadata": {
      "needs_background": "light"
     },
     "output_type": "display_data"
    }
   ],
   "source": [
    "import matplotlib.pyplot as plt\n",
    "\n",
    "pizza_df.plot(kind = 'scatter', x = 'diameter', y = 'harga')\n",
    "\n",
    "plt.title('Perbandingan Diamater dan Harga Pizza')\n",
    "plt.xlabel('Diameter Pizza')\n",
    "plt.ylabel('Harga (dollar)')\n",
    "plt.xlim(0, 25)\n",
    "plt.ylim(0, 25)\n",
    "plt.grid(True)\n",
    "plt.show()"
   ]
  },
  {
   "cell_type": "markdown",
   "id": "ecd4ee6f",
   "metadata": {},
   "source": [
    "Perhatikan titik-titik tersebuh seolah-olah membentuk garis lurus. Nah ini merupakan kasus yang tepat sekali untuk menerapkan **Linear Regression**."
   ]
  },
  {
   "cell_type": "markdown",
   "id": "3daa174d",
   "metadata": {},
   "source": [
    "### Penyesuaian Dataset"
   ]
  },
  {
   "cell_type": "code",
   "execution_count": 4,
   "id": "2aecdcf8",
   "metadata": {},
   "outputs": [
    {
     "name": "stdout",
     "output_type": "stream",
     "text": [
      "X: [ 6  8 10 14 18]\n",
      "y: [ 7.   9.  13.  17.5 18. ]\n"
     ]
    }
   ],
   "source": [
    "import numpy as np\n",
    "\n",
    "X = np.array(pizza_df['diameter']) # feature\n",
    "y = np.array(pizza_df['harga']) # target\n",
    "\n",
    "print(f'X: {X}')\n",
    "print(f'y: {y}')"
   ]
  },
  {
   "cell_type": "markdown",
   "id": "483fd474",
   "metadata": {},
   "source": [
    "Kita mengetahui sebelumnya bahwa model ML yang disertakan dalam scikit.learn membutuhkan sekumpulan nilai features yang ditampung dalam suatu **array dua dimensi**. Sehingga, disini perlu dilakukan *reshaping* pada array yang digunakan untuk menampung nilai features."
   ]
  },
  {
   "cell_type": "code",
   "execution_count": 5,
   "id": "5c87ac02",
   "metadata": {},
   "outputs": [
    {
     "data": {
      "text/plain": [
       "(5, 1)"
      ]
     },
     "execution_count": 5,
     "metadata": {},
     "output_type": "execute_result"
    }
   ],
   "source": [
    "X = X.reshape(-1, 1) \n",
    "X.shape"
   ]
  },
  {
   "cell_type": "markdown",
   "id": "6e8838f2",
   "metadata": {},
   "source": [
    "`reshape(-1, 1)` untuk membentuk vektor kolom"
   ]
  },
  {
   "cell_type": "code",
   "execution_count": 6,
   "id": "9652f626",
   "metadata": {},
   "outputs": [
    {
     "data": {
      "text/plain": [
       "array([[ 6],\n",
       "       [ 8],\n",
       "       [10],\n",
       "       [14],\n",
       "       [18]], dtype=int64)"
      ]
     },
     "execution_count": 6,
     "metadata": {},
     "output_type": "execute_result"
    }
   ],
   "source": [
    "X"
   ]
  },
  {
   "cell_type": "markdown",
   "id": "f88ccd56",
   "metadata": {},
   "source": [
    "### Training Simple Linear Regression Model"
   ]
  },
  {
   "cell_type": "code",
   "execution_count": 9,
   "id": "91a8faca",
   "metadata": {},
   "outputs": [
    {
     "data": {
      "text/plain": [
       "LinearRegression()"
      ]
     },
     "execution_count": 9,
     "metadata": {},
     "output_type": "execute_result"
    }
   ],
   "source": [
    "from sklearn.linear_model import LinearRegression\n",
    "\n",
    "model = LinearRegression() #object model\n",
    "model.fit(X,y) # object model yang ditraining"
   ]
  },
  {
   "cell_type": "markdown",
   "id": "1e49ddf5",
   "metadata": {},
   "source": [
    "### Visualisasi SImple Linear Regression Model"
   ]
  },
  {
   "cell_type": "code",
   "execution_count": 11,
   "id": "170bac6e",
   "metadata": {},
   "outputs": [],
   "source": [
    "X_vis = np.array([0, 25]).reshape(-1,1)\n",
    "y_vis = model.predict(X_vis)"
   ]
  },
  {
   "cell_type": "code",
   "execution_count": 14,
   "id": "3f053237",
   "metadata": {},
   "outputs": [
    {
     "data": {
      "image/png": "[encoded data removed]",
      "text/plain": [
       "<Figure size 432x288 with 1 Axes>"
      ]
     },
     "metadata": {
      "needs_background": "light"
     },
     "output_type": "display_data"
    }
   ],
   "source": [
    "plt.scatter(X, y)\n",
    "plt.plot(X_vis, y_vis, '-r') # '-r' dengan - membentuk garis lurus dan r warna merah\n",
    "\n",
    "plt.title('Perbandingan Diameter dan Harga Pizza')\n",
    "plt.xlabel('Diameter (inch)')\n",
    "plt.ylabel('Harga (dollar)')\n",
    "plt.xlim(0, 25)\n",
    "plt.ylim(0, 25)\n",
    "plt.grid(True)\n",
    "plt.show()"
   ]
  },
  {
   "cell_type": "markdown",
   "id": "80af83ce",
   "metadata": {},
   "source": [
    "### Formula Linear Regression: y = a + bx\n",
    "* y : response variable\n",
    "* x : explanatory variable\n",
    "* a : intercept\n",
    "* b : slope"
   ]
  },
  {
   "cell_type": "code",
   "execution_count": 18,
   "id": "e8b6b1ac",
   "metadata": {},
   "outputs": [
    {
     "name": "stdout",
     "output_type": "stream",
     "text": [
      "intercept : 1.965517241379315\n",
      "slope: [0.9762931]\n"
     ]
    }
   ],
   "source": [
    "print(f'intercept : {model.intercept_}')\n",
    "print(f'slope: {model.coef_}')"
   ]
  },
  {
   "cell_type": "markdown",
   "id": "a66eb7b2",
   "metadata": {},
   "source": [
    "### Mencari nilai slope (manual)\n",
    "NIlai slope pada Linear Regression bisa diperoleh dengan membagi cov(x,y) dengan var(x)"
   ]
  },
  {
   "cell_type": "code",
   "execution_count": 23,
   "id": "684f666b",
   "metadata": {},
   "outputs": [
    {
     "name": "stdout",
     "output_type": "stream",
     "text": [
      "X: \n",
      " [[ 6]\n",
      " [ 8]\n",
      " [10]\n",
      " [14]\n",
      " [18]] \n",
      "\n",
      "X flatten: [ 6  8 10 14 18] \n",
      "\n",
      "y: [ 7.   9.  13.  17.5 18. ]\n"
     ]
    }
   ],
   "source": [
    "print(f'X: \\n {X} \\n')\n",
    "print(f'X flatten: {X.flatten()} \\n')\n",
    "print(f'y: {y}')"
   ]
  },
  {
   "cell_type": "markdown",
   "id": "bccedd06",
   "metadata": {},
   "source": [
    "#### Variance"
   ]
  },
  {
   "cell_type": "code",
   "execution_count": 24,
   "id": "40e4e832",
   "metadata": {},
   "outputs": [
    {
     "name": "stdout",
     "output_type": "stream",
     "text": [
      "variance: 23.2\n"
     ]
    }
   ],
   "source": [
    "variance_x = np.var(X.flatten(), ddof = 1) # ddof : degree of freedom\n",
    "\n",
    "print(f'variance: {variance_x}')"
   ]
  },
  {
   "cell_type": "markdown",
   "id": "0b514c84",
   "metadata": {},
   "source": [
    "#### Covariance"
   ]
  },
  {
   "cell_type": "code",
   "execution_count": 25,
   "id": "d18bcb4d",
   "metadata": {},
   "outputs": [
    {
     "data": {
      "text/plain": [
       "array([[23.2 , 22.65],\n",
       "       [22.65, 24.3 ]])"
      ]
     },
     "execution_count": 25,
     "metadata": {},
     "output_type": "execute_result"
    }
   ],
   "source": [
    "np.cov(X.flatten(), y)"
   ]
  },
  {
   "cell_type": "code",
   "execution_count": 27,
   "id": "77046608",
   "metadata": {},
   "outputs": [
    {
     "name": "stdout",
     "output_type": "stream",
     "text": [
      "covariance: 22.65\n"
     ]
    }
   ],
   "source": [
    "covariance_xy = np.cov(X.flatten(), y)[0][1]\n",
    "\n",
    "print(f'covariance: {covariance_xy}')"
   ]
  },
  {
   "cell_type": "markdown",
   "id": "daf22177",
   "metadata": {},
   "source": [
    "#### Slope"
   ]
  },
  {
   "cell_type": "code",
   "execution_count": 29,
   "id": "fe5c6427",
   "metadata": {},
   "outputs": [
    {
     "name": "stdout",
     "output_type": "stream",
     "text": [
      "slope: 0.9762931034482758\n"
     ]
    }
   ],
   "source": [
    "slope = covariance_xy / variance_x\n",
    "print(f'slope: {slope}')"
   ]
  },
  {
   "cell_type": "markdown",
   "id": "4e3520ce",
   "metadata": {},
   "source": [
    "### Mencari nilai intercept (manual)\n",
    "Nilai intercept pada LInear Regression bisa diperoleh dengan pengurangan nilai rata-rata dari y dan hasil perkalian slope dan rata-rata x. "
   ]
  },
  {
   "cell_type": "code",
   "execution_count": 30,
   "id": "82cf7ea7",
   "metadata": {},
   "outputs": [
    {
     "name": "stdout",
     "output_type": "stream",
     "text": [
      "intercept: 1.9655172413793114\n"
     ]
    }
   ],
   "source": [
    "intercept = np.mean(y) - slope * np.mean(X)\n",
    "print(f'intercept: {intercept}')"
   ]
  },
  {
   "cell_type": "markdown",
   "id": "381fa1ba",
   "metadata": {},
   "source": [
    "### Prediksi Harga Pizza\n",
    "Model Linear Regression yang telah ditraining sebelumnya akan digunakan untuk memprediksi harga pizza berdasarkan ukuran diameternya."
   ]
  },
  {
   "cell_type": "code",
   "execution_count": 32,
   "id": "81dda18a",
   "metadata": {},
   "outputs": [
    {
     "data": {
      "text/plain": [
       "array([[12],\n",
       "       [20],\n",
       "       [23]])"
      ]
     },
     "execution_count": 32,
     "metadata": {},
     "output_type": "execute_result"
    }
   ],
   "source": [
    "diameter_pizza = np.array([12,20,23]).reshape(-1,1)\n",
    "diameter_pizza"
   ]
  },
  {
   "cell_type": "code",
   "execution_count": 33,
   "id": "48777bef",
   "metadata": {},
   "outputs": [
    {
     "data": {
      "text/plain": [
       "array([13.68103448, 21.49137931, 24.42025862])"
      ]
     },
     "execution_count": 33,
     "metadata": {},
     "output_type": "execute_result"
    }
   ],
   "source": [
    "prediksi_harga = model.predict(diameter_pizza)\n",
    "prediksi_harga"
   ]
  },
  {
   "cell_type": "code",
   "execution_count": 35,
   "id": "8016fb43",
   "metadata": {},
   "outputs": [
    {
     "name": "stdout",
     "output_type": "stream",
     "text": [
      "diameter: [12] prediksi harga: 13.681034482758621\n",
      "diameter: [20] prediksi harga: 21.491379310344826\n",
      "diameter: [23] prediksi harga: 24.42025862068965\n"
     ]
    }
   ],
   "source": [
    "for dmtr, hrg in zip(diameter_pizza, prediksi_harga):\n",
    "    print(f'diameter: {dmtr} prediksi harga: {hrg}')"
   ]
  },
  {
   "cell_type": "markdown",
   "id": "ac773f44",
   "metadata": {},
   "source": [
    "### Evaluasi Simple Linear Regression Model"
   ]
  },
  {
   "cell_type": "markdown",
   "id": "49fb94e5",
   "metadata": {},
   "source": [
    "#### Training & Testing Dataset"
   ]
  },
  {
   "cell_type": "code",
   "execution_count": 36,
   "id": "2e3d84d8",
   "metadata": {},
   "outputs": [],
   "source": [
    "X_train = np.array([6,8,10,14,18]).reshape(-1,1)\n",
    "y_train = np.array([7,9,13,17.5,18])\n",
    "\n",
    "X_test = np.array([8,9,11,16,12]).reshape(-1,1)\n",
    "y_test = np.array([11,8.5,15,18,11])"
   ]
  },
  {
   "cell_type": "markdown",
   "id": "288a4ec3",
   "metadata": {},
   "source": [
    "#### Training Simple Linear Regression Model "
   ]
  },
  {
   "cell_type": "code",
   "execution_count": 37,
   "id": "b49d1d97",
   "metadata": {},
   "outputs": [
    {
     "data": {
      "text/plain": [
       "LinearRegression()"
      ]
     },
     "execution_count": 37,
     "metadata": {},
     "output_type": "execute_result"
    }
   ],
   "source": [
    "model = LinearRegression()\n",
    "model.fit(X_train, y_train)"
   ]
  },
  {
   "cell_type": "markdown",
   "id": "907a22a1",
   "metadata": {},
   "source": [
    "#### Evaluasi Linear Regression Model dengan Coefficient of Determination atau R-squared (R^2)"
   ]
  },
  {
   "cell_type": "code",
   "execution_count": 38,
   "id": "76aac69a",
   "metadata": {},
   "outputs": [
    {
     "name": "stdout",
     "output_type": "stream",
     "text": [
      "R-squared: 0.6620052929422553\n"
     ]
    }
   ],
   "source": [
    "from sklearn.metrics import r2_score\n",
    "\n",
    "y_pred = model.predict(X_test)\n",
    "\n",
    "r_squared = r2_score(y_test, y_pred)\n",
    "\n",
    "print(f'R-squared: {r_squared}')"
   ]
  },
  {
   "attachments": {
    "Rsquared.png": {
     "image/png": "[encoded data removed]"
    }
   },
   "cell_type": "markdown",
   "id": "240c5681",
   "metadata": {},
   "source": [
    "nilai R^2 adalah 66.2 % yang artinya model cukup baik.\n",
    "![Rsquared.png](attachment:Rsquared.png)"
   ]
  },
  {
   "cell_type": "markdown",
   "id": "6724bffc",
   "metadata": {},
   "source": [
    "### Mencari nilai R-squared"
   ]
  },
  {
   "cell_type": "code",
   "execution_count": 39,
   "id": "d0c93b81",
   "metadata": {},
   "outputs": [
    {
     "name": "stdout",
     "output_type": "stream",
     "text": [
      "ss_res: 19.1980993608799\n"
     ]
    }
   ],
   "source": [
    "ss_res = sum([(y_i -model.predict(x_i.reshape(-1,1))[0])**2\n",
    "             for x_i, y_i in zip(X_test, y_test)])\n",
    "\n",
    "print(f'ss_res: {ss_res}')"
   ]
  },
  {
   "cell_type": "code",
   "execution_count": 40,
   "id": "b14f4a98",
   "metadata": {},
   "outputs": [
    {
     "name": "stdout",
     "output_type": "stream",
     "text": [
      "ss_tot: 56.8\n"
     ]
    }
   ],
   "source": [
    "mean_y = np.mean(y_test)\n",
    "ss_tot = sum([(y_i - mean_y)**2 for y_i in y_test])\n",
    "\n",
    "print(f'ss_tot: {ss_tot}')"
   ]
  },
  {
   "cell_type": "code",
   "execution_count": 41,
   "id": "d52172fa",
   "metadata": {},
   "outputs": [
    {
     "name": "stdout",
     "output_type": "stream",
     "text": [
      "R-squared: 0.6620052929422553\n"
     ]
    }
   ],
   "source": [
    "r_squared = 1-(ss_res/ss_tot)\n",
    "\n",
    "print(f'R-squared: {r_squared}')"
   ]
  }
 ],
 "metadata": {
  "kernelspec": {
   "display_name": "Python 3 (ipykernel)",
   "language": "python",
   "name": "python3"
  },
  "language_info": {
   "codemirror_mode": {
    "name": "ipython",
    "version": 3
   },
   "file_extension": ".py",
   "mimetype": "text/x-python",
   "name": "python",
   "nbconvert_exporter": "python",
   "pygments_lexer": "ipython3",
   "version": "3.9.6"
  }
 },
 "nbformat": 4,
 "nbformat_minor": 5
}
