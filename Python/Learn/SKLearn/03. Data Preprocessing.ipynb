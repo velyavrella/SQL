{
 "cells": [
  {
   "cell_type": "markdown",
   "id": "c9751606",
   "metadata": {},
   "source": [
    "### Sample Data"
   ]
  },
  {
   "cell_type": "code",
   "execution_count": 2,
   "id": "279dcf78",
   "metadata": {},
   "outputs": [
    {
     "data": {
      "text/plain": [
       "array([[ 2.1, -1.9,  5.5],\n",
       "       [-1.5,  2.4,  3.5],\n",
       "       [ 0.5, -7.9,  5.6],\n",
       "       [ 5.9,  2.3, -5.8]])"
      ]
     },
     "execution_count": 2,
     "metadata": {},
     "output_type": "execute_result"
    }
   ],
   "source": [
    "import numpy as np\n",
    "from sklearn import preprocessing\n",
    "\n",
    "sample_data = np.array([[2.1, -1.9, 5.5],\n",
    "                      [-1.5, 2.4, 3.5],\n",
    "                      [0.5, -7.9, 5.6],\n",
    "                      [5.9, 2.3, -5.8]])\n",
    "\n",
    "sample_data"
   ]
  },
  {
   "cell_type": "markdown",
   "id": "420a0be3",
   "metadata": {},
   "source": [
    "dataset ini bisa dipandang sebagai dataset dengan 3 features."
   ]
  },
  {
   "cell_type": "code",
   "execution_count": 5,
   "id": "f36b7c6a",
   "metadata": {},
   "outputs": [
    {
     "data": {
      "text/plain": [
       "(4, 3)"
      ]
     },
     "execution_count": 5,
     "metadata": {},
     "output_type": "execute_result"
    }
   ],
   "source": [
    "sample_data.shape # dimensi dataset"
   ]
  },
  {
   "cell_type": "markdown",
   "id": "59ec9137",
   "metadata": {},
   "source": [
    "### Binarisation\n",
    "untuk menghasilkan suatu data yng terdiri dari 2 nilai numerik saja yaitu 0 dan 1."
   ]
  },
  {
   "cell_type": "code",
   "execution_count": 6,
   "id": "282c423a",
   "metadata": {},
   "outputs": [
    {
     "data": {
      "text/plain": [
       "array([[ 2.1, -1.9,  5.5],\n",
       "       [-1.5,  2.4,  3.5],\n",
       "       [ 0.5, -7.9,  5.6],\n",
       "       [ 5.9,  2.3, -5.8]])"
      ]
     },
     "execution_count": 6,
     "metadata": {},
     "output_type": "execute_result"
    }
   ],
   "source": [
    "sample_data"
   ]
  },
  {
   "cell_type": "code",
   "execution_count": 7,
   "id": "083e88ff",
   "metadata": {},
   "outputs": [
    {
     "data": {
      "text/plain": [
       "array([[1., 0., 1.],\n",
       "       [0., 1., 1.],\n",
       "       [0., 0., 1.],\n",
       "       [1., 1., 0.]])"
      ]
     },
     "execution_count": 7,
     "metadata": {},
     "output_type": "execute_result"
    }
   ],
   "source": [
    "preprocessor = preprocessing.Binarizer(threshold = 0.5)\n",
    "pinarised_data = preprocessor.transform(sample_data)\n",
    "pinarised_data"
   ]
  },
  {
   "cell_type": "markdown",
   "id": "0e95456c",
   "metadata": {},
   "source": [
    "Misalkan disini dihadapkan pada kondisi untuk mengkonversikan nilai yang **lebih** dari 0.5 menjadi 1 dan sisanya menjadi 0 dengan class `Binarizer`"
   ]
  },
  {
   "cell_type": "markdown",
   "id": "2528d180",
   "metadata": {},
   "source": [
    "### Scaling\n",
    "untuk menghasilkan data numerik yang berada dalam rentang skala tertentu."
   ]
  },
  {
   "cell_type": "code",
   "execution_count": 13,
   "id": "cd34df43",
   "metadata": {},
   "outputs": [
    {
     "data": {
      "text/plain": [
       "array([[ 2.1, -1.9,  5.5],\n",
       "       [-1.5,  2.4,  3.5],\n",
       "       [ 0.5, -7.9,  5.6],\n",
       "       [ 5.9,  2.3, -5.8]])"
      ]
     },
     "execution_count": 13,
     "metadata": {},
     "output_type": "execute_result"
    }
   ],
   "source": [
    "sample_data"
   ]
  },
  {
   "cell_type": "markdown",
   "id": "8e2de254",
   "metadata": {},
   "source": [
    "dataset terdiri dari floating point dari rentang -7.9 sebagai nilai terkecil hingga 5.9 sebagai nilai terbesar."
   ]
  },
  {
   "cell_type": "markdown",
   "id": "7df1f4b2",
   "metadata": {},
   "source": [
    "Misalkan disini dihadapkan pada kondisi untuk mengkonversikan sekumpulan nilai numerik ini ke dalam rentang mulai dari 0 sampai dengan 1 dengan class `Scaler`"
   ]
  },
  {
   "cell_type": "code",
   "execution_count": 14,
   "id": "a82473ed",
   "metadata": {},
   "outputs": [
    {
     "data": {
      "text/plain": [
       "array([[0.48648649, 0.58252427, 0.99122807],\n",
       "       [0.        , 1.        , 0.81578947],\n",
       "       [0.27027027, 0.        , 1.        ],\n",
       "       [1.        , 0.99029126, 0.        ]])"
      ]
     },
     "execution_count": 14,
     "metadata": {},
     "output_type": "execute_result"
    }
   ],
   "source": [
    "preprocessor = preprocessing.MinMaxScaler(feature_range = (0, 1)) # object scaler\n",
    "preprocessor.fit(sample_data) # scaler di fit pada data\n",
    "scaled_data = preprocessor.transform(sample_data)\n",
    "scaled_data"
   ]
  },
  {
   "cell_type": "markdown",
   "id": "a351cdf0",
   "metadata": {},
   "source": [
    "terlihat nilai terkecil adalah 0 dan nilai terbesar adalah 1."
   ]
  },
  {
   "cell_type": "code",
   "execution_count": 15,
   "id": "be210987",
   "metadata": {},
   "outputs": [
    {
     "data": {
      "text/plain": [
       "array([[0.48648649, 0.58252427, 0.99122807],\n",
       "       [0.        , 1.        , 0.81578947],\n",
       "       [0.27027027, 0.        , 1.        ],\n",
       "       [1.        , 0.99029126, 0.        ]])"
      ]
     },
     "execution_count": 15,
     "metadata": {},
     "output_type": "execute_result"
    }
   ],
   "source": [
    "# Cara lain karna proses fitting dan transform dikenakan pada data yang sama\n",
    "scaled_data = preprocessor.fit_transform(sample_data)\n",
    "scaled_data"
   ]
  },
  {
   "cell_type": "markdown",
   "id": "43bdda68",
   "metadata": {},
   "source": [
    "### L1 Normalisasi: Least Absolute Deviations\n",
    "bekerja dengan memastikan bahwa jumlah nilai absolut adalah 1 dalam setiap baris."
   ]
  },
  {
   "cell_type": "code",
   "execution_count": 16,
   "id": "0aa03fb0",
   "metadata": {},
   "outputs": [
    {
     "data": {
      "text/plain": [
       "array([[ 2.1, -1.9,  5.5],\n",
       "       [-1.5,  2.4,  3.5],\n",
       "       [ 0.5, -7.9,  5.6],\n",
       "       [ 5.9,  2.3, -5.8]])"
      ]
     },
     "execution_count": 16,
     "metadata": {},
     "output_type": "execute_result"
    }
   ],
   "source": [
    "sample_data"
   ]
  },
  {
   "cell_type": "code",
   "execution_count": 17,
   "id": "9766a5d2",
   "metadata": {},
   "outputs": [
    {
     "data": {
      "text/plain": [
       "array([[ 0.22105263, -0.2       ,  0.57894737],\n",
       "       [-0.2027027 ,  0.32432432,  0.47297297],\n",
       "       [ 0.03571429, -0.56428571,  0.4       ],\n",
       "       [ 0.42142857,  0.16428571, -0.41428571]])"
      ]
     },
     "execution_count": 17,
     "metadata": {},
     "output_type": "execute_result"
    }
   ],
   "source": [
    "L1_normalised_data = preprocessing.normalize(sample_data, norm = 'l1')\n",
    "L1_normalised_data"
   ]
  },
  {
   "cell_type": "markdown",
   "id": "2dfd35c2",
   "metadata": {},
   "source": [
    " Fungsi `normalize` membutuhkan dua paramater yaitu data dan norm. Kasus ini norm diberi nilai 'l1' yang akan berasosiasi dengan normalisasi : Least Absolute Deviations."
   ]
  },
  {
   "cell_type": "markdown",
   "id": "c60b16cd",
   "metadata": {},
   "source": [
    "### L2 Normalisation: Least Squares\n",
    "bekerja dengan memastikan bahwa jumlah kuadrat adalah 1."
   ]
  },
  {
   "cell_type": "code",
   "execution_count": 18,
   "id": "206792b0",
   "metadata": {},
   "outputs": [
    {
     "data": {
      "text/plain": [
       "array([[ 2.1, -1.9,  5.5],\n",
       "       [-1.5,  2.4,  3.5],\n",
       "       [ 0.5, -7.9,  5.6],\n",
       "       [ 5.9,  2.3, -5.8]])"
      ]
     },
     "execution_count": 18,
     "metadata": {},
     "output_type": "execute_result"
    }
   ],
   "source": [
    "sample_data"
   ]
  },
  {
   "cell_type": "code",
   "execution_count": 19,
   "id": "06d1f8e6",
   "metadata": {},
   "outputs": [
    {
     "data": {
      "text/plain": [
       "array([[ 0.33946114, -0.30713151,  0.88906489],\n",
       "       [-0.33325106,  0.53320169,  0.7775858 ],\n",
       "       [ 0.05156558, -0.81473612,  0.57753446],\n",
       "       [ 0.68706914,  0.26784051, -0.6754239 ]])"
      ]
     },
     "execution_count": 19,
     "metadata": {},
     "output_type": "execute_result"
    }
   ],
   "source": [
    "l2_normalised_data = preprocessing.normalize(sample_data, norm = 'l2')\n",
    "l2_normalised_data"
   ]
  }
 ],
 "metadata": {
  "kernelspec": {
   "display_name": "Python 3 (ipykernel)",
   "language": "python",
   "name": "python3"
  },
  "language_info": {
   "codemirror_mode": {
    "name": "ipython",
    "version": 3
   },
   "file_extension": ".py",
   "mimetype": "text/x-python",
   "name": "python",
   "nbconvert_exporter": "python",
   "pygments_lexer": "ipython3",
   "version": "3.9.6"
  }
 },
 "nbformat": 4,
 "nbformat_minor": 5
}
